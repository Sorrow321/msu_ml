{
 "cells": [
  {
   "cell_type": "markdown",
   "metadata": {},
   "source": [
    "## Машинное обучение, ВМК МГУ\n",
    "\n",
    "## Практическое задание 2\n",
    "\n",
    "### Общая информация\n",
    "Дата выдачи: 9 октября 2019\n",
    "\n",
    "Максимальная оценка: 10 баллов + 1 бонусный балл\n",
    "\n",
    "Мягкий дедлайн: 23:59MSK 23 октября (за каждый день просрочки снимается 1 балл)\n",
    "\n",
    "Жесткий дедлайн: 23:59MSK 30 октября."
   ]
  },
  {
   "cell_type": "markdown",
   "metadata": {},
   "source": [
    "### О задании\n",
    "\n",
    "В этом задании вы:\n",
    "- Познакомитесь с методом решения задачи регрессии на основе метода ближайших соседей.\n",
    "- Реализуете алгоритм kNN для задачи регрессии.\n",
    "- Изучите методы работы с категориальными и текстовыми переменными.\n",
    "\n",
    "\n",
    "### Оценивание и штрафы\n",
    "Каждая из задач имеет определенную «стоимость» (указана в скобках около задачи). Максимально допустимая оценка за работу — 10 баллов.\n",
    "\n",
    "Сдавать задание после указанного срока сдачи нельзя. При выставлении неполного балла за задание в связи с наличием ошибок на усмотрение проверяющего предусмотрена возможность исправить работу на указанных в ответном письме условиях.\n",
    "\n",
    "Задание выполняется самостоятельно. «Похожие» решения считаются плагиатом и все задействованные студенты (в том числе те, у кого списали) не могут получить за него больше 0 баллов (подробнее о плагиате см. на странице курса). Если вы нашли решение какого-то из заданий (или его часть) в открытом источнике, необходимо указать ссылку на этот источник в отдельном блоке в конце вашей работы (скорее всего вы будете не единственным, кто это нашел, поэтому чтобы исключить подозрение в плагиате, необходима ссылка на источник).\n",
    "\n",
    "Неэффективная реализация кода может негативно отразиться на оценке.\n",
    "\n",
    "\n",
    "### Формат сдачи\n",
    "Для сдачи задания переименуйте получившийся файл *.ipynb в соответствии со следующим форматом: homework-practice-02-Username.ipynb, где Username — ваша фамилия и имя на латинице именно в таком порядке (например, homework-practice-02-ivanov.ipynb).\n",
    "\n",
    "Далее отправьте этот файл на anytask в соответсвующий раздел."
   ]
  },
  {
   "cell_type": "code",
   "execution_count": 241,
   "metadata": {},
   "outputs": [],
   "source": [
    "import numpy as np\n",
    "import pandas as pd\n",
    "import datetime\n",
    "import time\n",
    "import sys\n",
    "from datetime import datetime\n",
    "from sklearn import preprocessing\n",
    "import matplotlib.pyplot as plt\n",
    "%matplotlib inline\n",
    "from sklearn.neighbors import KNeighborsClassifier\n",
    "from sklearn.metrics import roc_auc_score\n",
    "from sklearn.preprocessing import Normalizer\n",
    "from sklearn.neighbors import KNeighborsRegressor"
   ]
  },
  {
   "cell_type": "markdown",
   "metadata": {},
   "source": [
    "Все эксперименты в этой лабораторной работе предлагается проводить на данных соревнования New York City Airbnb Open Data: https://www.kaggle.com/dgomonov/new-york-city-airbnb-open-data#AB_NYC_2019.csv\n",
    "\n",
    "В данной задаче предлагается предсказать цену на съем квартиры в зависимости от её параметров."
   ]
  },
  {
   "cell_type": "code",
   "execution_count": 242,
   "metadata": {
    "scrolled": true
   },
   "outputs": [
    {
     "data": {
      "text/html": [
       "<div>\n",
       "<style scoped>\n",
       "    .dataframe tbody tr th:only-of-type {\n",
       "        vertical-align: middle;\n",
       "    }\n",
       "\n",
       "    .dataframe tbody tr th {\n",
       "        vertical-align: top;\n",
       "    }\n",
       "\n",
       "    .dataframe thead th {\n",
       "        text-align: right;\n",
       "    }\n",
       "</style>\n",
       "<table border=\"1\" class=\"dataframe\">\n",
       "  <thead>\n",
       "    <tr style=\"text-align: right;\">\n",
       "      <th></th>\n",
       "      <th>id</th>\n",
       "      <th>name</th>\n",
       "      <th>host_id</th>\n",
       "      <th>host_name</th>\n",
       "      <th>neighbourhood_group</th>\n",
       "      <th>neighbourhood</th>\n",
       "      <th>latitude</th>\n",
       "      <th>longitude</th>\n",
       "      <th>room_type</th>\n",
       "      <th>price</th>\n",
       "      <th>minimum_nights</th>\n",
       "      <th>number_of_reviews</th>\n",
       "      <th>last_review</th>\n",
       "      <th>reviews_per_month</th>\n",
       "      <th>calculated_host_listings_count</th>\n",
       "      <th>availability_365</th>\n",
       "    </tr>\n",
       "  </thead>\n",
       "  <tbody>\n",
       "    <tr>\n",
       "      <td>0</td>\n",
       "      <td>2539</td>\n",
       "      <td>Clean &amp; quiet apt home by the park</td>\n",
       "      <td>2787</td>\n",
       "      <td>John</td>\n",
       "      <td>Brooklyn</td>\n",
       "      <td>Kensington</td>\n",
       "      <td>40.64749</td>\n",
       "      <td>-73.97237</td>\n",
       "      <td>Private room</td>\n",
       "      <td>149</td>\n",
       "      <td>1</td>\n",
       "      <td>9</td>\n",
       "      <td>2018-10-19</td>\n",
       "      <td>0.21</td>\n",
       "      <td>6</td>\n",
       "      <td>365</td>\n",
       "    </tr>\n",
       "    <tr>\n",
       "      <td>1</td>\n",
       "      <td>2595</td>\n",
       "      <td>Skylit Midtown Castle</td>\n",
       "      <td>2845</td>\n",
       "      <td>Jennifer</td>\n",
       "      <td>Manhattan</td>\n",
       "      <td>Midtown</td>\n",
       "      <td>40.75362</td>\n",
       "      <td>-73.98377</td>\n",
       "      <td>Entire home/apt</td>\n",
       "      <td>225</td>\n",
       "      <td>1</td>\n",
       "      <td>45</td>\n",
       "      <td>2019-05-21</td>\n",
       "      <td>0.38</td>\n",
       "      <td>2</td>\n",
       "      <td>355</td>\n",
       "    </tr>\n",
       "    <tr>\n",
       "      <td>2</td>\n",
       "      <td>3647</td>\n",
       "      <td>THE VILLAGE OF HARLEM....NEW YORK !</td>\n",
       "      <td>4632</td>\n",
       "      <td>Elisabeth</td>\n",
       "      <td>Manhattan</td>\n",
       "      <td>Harlem</td>\n",
       "      <td>40.80902</td>\n",
       "      <td>-73.94190</td>\n",
       "      <td>Private room</td>\n",
       "      <td>150</td>\n",
       "      <td>3</td>\n",
       "      <td>0</td>\n",
       "      <td>NaN</td>\n",
       "      <td>NaN</td>\n",
       "      <td>1</td>\n",
       "      <td>365</td>\n",
       "    </tr>\n",
       "    <tr>\n",
       "      <td>3</td>\n",
       "      <td>3831</td>\n",
       "      <td>Cozy Entire Floor of Brownstone</td>\n",
       "      <td>4869</td>\n",
       "      <td>LisaRoxanne</td>\n",
       "      <td>Brooklyn</td>\n",
       "      <td>Clinton Hill</td>\n",
       "      <td>40.68514</td>\n",
       "      <td>-73.95976</td>\n",
       "      <td>Entire home/apt</td>\n",
       "      <td>89</td>\n",
       "      <td>1</td>\n",
       "      <td>270</td>\n",
       "      <td>2019-07-05</td>\n",
       "      <td>4.64</td>\n",
       "      <td>1</td>\n",
       "      <td>194</td>\n",
       "    </tr>\n",
       "    <tr>\n",
       "      <td>4</td>\n",
       "      <td>5022</td>\n",
       "      <td>Entire Apt: Spacious Studio/Loft by central park</td>\n",
       "      <td>7192</td>\n",
       "      <td>Laura</td>\n",
       "      <td>Manhattan</td>\n",
       "      <td>East Harlem</td>\n",
       "      <td>40.79851</td>\n",
       "      <td>-73.94399</td>\n",
       "      <td>Entire home/apt</td>\n",
       "      <td>80</td>\n",
       "      <td>10</td>\n",
       "      <td>9</td>\n",
       "      <td>2018-11-19</td>\n",
       "      <td>0.10</td>\n",
       "      <td>1</td>\n",
       "      <td>0</td>\n",
       "    </tr>\n",
       "  </tbody>\n",
       "</table>\n",
       "</div>"
      ],
      "text/plain": [
       "     id                                              name  host_id  \\\n",
       "0  2539                Clean & quiet apt home by the park     2787   \n",
       "1  2595                             Skylit Midtown Castle     2845   \n",
       "2  3647               THE VILLAGE OF HARLEM....NEW YORK !     4632   \n",
       "3  3831                   Cozy Entire Floor of Brownstone     4869   \n",
       "4  5022  Entire Apt: Spacious Studio/Loft by central park     7192   \n",
       "\n",
       "     host_name neighbourhood_group neighbourhood  latitude  longitude  \\\n",
       "0         John            Brooklyn    Kensington  40.64749  -73.97237   \n",
       "1     Jennifer           Manhattan       Midtown  40.75362  -73.98377   \n",
       "2    Elisabeth           Manhattan        Harlem  40.80902  -73.94190   \n",
       "3  LisaRoxanne            Brooklyn  Clinton Hill  40.68514  -73.95976   \n",
       "4        Laura           Manhattan   East Harlem  40.79851  -73.94399   \n",
       "\n",
       "         room_type  price  minimum_nights  number_of_reviews last_review  \\\n",
       "0     Private room    149               1                  9  2018-10-19   \n",
       "1  Entire home/apt    225               1                 45  2019-05-21   \n",
       "2     Private room    150               3                  0         NaN   \n",
       "3  Entire home/apt     89               1                270  2019-07-05   \n",
       "4  Entire home/apt     80              10                  9  2018-11-19   \n",
       "\n",
       "   reviews_per_month  calculated_host_listings_count  availability_365  \n",
       "0               0.21                               6               365  \n",
       "1               0.38                               2               355  \n",
       "2                NaN                               1               365  \n",
       "3               4.64                               1               194  \n",
       "4               0.10                               1                 0  "
      ]
     },
     "execution_count": 242,
     "metadata": {},
     "output_type": "execute_result"
    }
   ],
   "source": [
    "data = pd.read_csv('AB_NYC_2019.csv')\n",
    "data.head()"
   ]
  },
  {
   "cell_type": "code",
   "execution_count": 243,
   "metadata": {},
   "outputs": [
    {
     "data": {
      "text/plain": [
       "(48895, 16)"
      ]
     },
     "execution_count": 243,
     "metadata": {},
     "output_type": "execute_result"
    }
   ],
   "source": [
    "data.shape"
   ]
  },
  {
   "cell_type": "code",
   "execution_count": 6,
   "metadata": {},
   "outputs": [
    {
     "name": "stdout",
     "output_type": "stream",
     "text": [
      "id 48895\n",
      "name 47906\n",
      "host_id 37457\n",
      "host_name 11453\n",
      "neighbourhood_group 5\n",
      "neighbourhood 221\n",
      "latitude 19048\n",
      "longitude 14718\n",
      "room_type 3\n",
      "price 674\n",
      "minimum_nights 109\n",
      "number_of_reviews 394\n",
      "last_review 1765\n",
      "reviews_per_month 938\n",
      "calculated_host_listings_count 47\n",
      "availability_365 366\n"
     ]
    }
   ],
   "source": [
    "# число значений у признаков\n",
    "for col_name in data.columns:\n",
    "    print(col_name, len(data[col_name].unique()))"
   ]
  },
  {
   "cell_type": "code",
   "execution_count": 5,
   "metadata": {},
   "outputs": [
    {
     "data": {
      "text/plain": [
       "id                                    0\n",
       "name                                 16\n",
       "host_id                               0\n",
       "host_name                            21\n",
       "neighbourhood_group                   0\n",
       "neighbourhood                         0\n",
       "latitude                              0\n",
       "longitude                             0\n",
       "room_type                             0\n",
       "price                                 0\n",
       "minimum_nights                        0\n",
       "number_of_reviews                     0\n",
       "last_review                       10052\n",
       "reviews_per_month                 10052\n",
       "calculated_host_listings_count        0\n",
       "availability_365                      0\n",
       "dtype: int64"
      ]
     },
     "execution_count": 5,
     "metadata": {},
     "output_type": "execute_result"
    }
   ],
   "source": [
    "data.isna().sum()"
   ]
  },
  {
   "cell_type": "markdown",
   "metadata": {},
   "source": [
    "Как видите, в данных есть пропуски. Не забудьте обработать их"
   ]
  },
  {
   "cell_type": "code",
   "execution_count": 244,
   "metadata": {},
   "outputs": [],
   "source": [
    "dt = pd.to_datetime(data.dropna()['last_review'])"
   ]
  },
  {
   "cell_type": "code",
   "execution_count": 245,
   "metadata": {},
   "outputs": [
    {
     "name": "stdout",
     "output_type": "stream",
     "text": [
      "-0.016842840099168796\n"
     ]
    },
    {
     "data": {
      "text/plain": [
       "<matplotlib.collections.PathCollection at 0x1a34165b1d0>"
      ]
     },
     "execution_count": 245,
     "metadata": {},
     "output_type": "execute_result"
    },
    {
     "data": {
      "image/png": "[encoded data removed]",
      "text/plain": [
       "<Figure size 432x288 with 1 Axes>"
      ]
     },
     "metadata": {
      "needs_background": "light"
     },
     "output_type": "display_data"
    }
   ],
   "source": [
    "idx = dt.reset_index()['index']\n",
    "print(np.corrcoef(dt.values.astype(np.int64) / 1e9, data['price'][idx].values)[1, 0])\n",
    "plt.scatter(dt.values, data['price'][idx])"
   ]
  },
  {
   "cell_type": "code",
   "execution_count": 246,
   "metadata": {},
   "outputs": [
    {
     "data": {
      "text/plain": [
       "1562544000.0"
      ]
     },
     "execution_count": 246,
     "metadata": {},
     "output_type": "execute_result"
    }
   ],
   "source": [
    "dt.astype(np.int64).max() / 1e9"
   ]
  },
  {
   "cell_type": "code",
   "execution_count": 247,
   "metadata": {},
   "outputs": [],
   "source": [
    "ts = 1562544000"
   ]
  },
  {
   "cell_type": "code",
   "execution_count": 248,
   "metadata": {
    "scrolled": true
   },
   "outputs": [
    {
     "name": "stdout",
     "output_type": "stream",
     "text": [
      "2019-07-08 00:00:00\n"
     ]
    }
   ],
   "source": [
    "print(datetime.utcfromtimestamp(ts).strftime('%Y-%m-%d %H:%M:%S'))"
   ]
  },
  {
   "cell_type": "code",
   "execution_count": 249,
   "metadata": {},
   "outputs": [],
   "source": [
    "data[['name', 'host_name']] = data[['name', 'host_name']].fillna('unknown')\n",
    "data[['reviews_per_month']] = data[['reviews_per_month']].fillna(data['reviews_per_month'].mean())\n",
    "data[['last_review']] = data[['last_review']].fillna('2019-07-08') # filling with latest date"
   ]
  },
  {
   "cell_type": "markdown",
   "metadata": {},
   "source": [
    "Разобъем данные на обучение и контроль."
   ]
  },
  {
   "cell_type": "code",
   "execution_count": 250,
   "metadata": {
    "scrolled": false
   },
   "outputs": [],
   "source": [
    "from sklearn.model_selection import train_test_split\n",
    "X_train, X_test, y_train, y_test = train_test_split(data.drop(columns=['price']), data[['price']],\n",
    "                                                    test_size=0.3, random_state=241)"
   ]
  },
  {
   "cell_type": "markdown",
   "metadata": {},
   "source": [
    "## Часть 1: Алгоритм kNN в задаче регрессии"
   ]
  },
  {
   "cell_type": "markdown",
   "metadata": {},
   "source": [
    "<b> 1.1 (1.5 балла) </b>\n",
    "Реализуйте класс `KNNRegressor`, который используя метод k ближайших соседей решает задачу регрессии. Для решение данной задачи, необходимо найти $N_k$ - k соседей, и после использовать значения их целевых переменных для предсказания:\n",
    "\\begin{align}\n",
    "y = \\frac{1}{k}\\sum_{n \\in N_k}w_n y_n,\n",
    "\\end{align}\n",
    "\n",
    "где $w_n$ - вес каждого соседа. \n",
    "\n",
    "При этом `KNNRegressor` может работать в 2 режимах:\n",
    " - $uniform$ - ближайшие соседи учитываются с одинаковыми весами.\n",
    " - $distance$ - вес ближайших соседей зависит от расстояния\n",
    " \n",
    "Сигнатуру методов при желании можно менять."
   ]
  },
  {
   "cell_type": "code",
   "execution_count": 21,
   "metadata": {},
   "outputs": [],
   "source": [
    "from typing import Union, Callable, Iterable, Optional\n",
    "from sklearn.neighbors import NearestNeighbors\n",
    "\n",
    "\n",
    "class KNNRegressor:\n",
    "    def __init__(self, n_neighbors: int, metric: Union[str, Callable], mode: str = 'uniform'):\n",
    "        \"\"\"\n",
    "        params:\n",
    "            n_neighbors: number of neighbors\n",
    "            metric: metric to use for distance computation\n",
    "            mode: 'uniform' or 'distance'\n",
    "            'uniform' - all points in each neighborhood are weighted equally\n",
    "            'distance' - weight points by the inverse of their distance\n",
    "        \"\"\"\n",
    "        self.__nn = NearestNeighbors(n_neighbors=n_neighbors, metric=metric)\n",
    "        self.__mode = mode\n",
    "        self.__n_neighbors = n_neighbors\n",
    "\n",
    "    def fit(self, X: np.array, y: np.array) -> None:\n",
    "        \"\"\"\n",
    "            X: data\n",
    "            y: labels\n",
    "        \"\"\"\n",
    "        self.__nn.fit(X)\n",
    "        self.__labels = y\n",
    "\n",
    "    def predict(self, X: np.array, n_neighbors: Optional[int] = None) -> np.array:\n",
    "        \"\"\"\n",
    "            X: data\n",
    "            n_neighbors: number of neighbors\n",
    "        \"\"\"\n",
    "        if self.__mode == 'uniform':\n",
    "            nearest_labels = self.__labels[self.__nn.kneighbors(X, return_distance=False)]\n",
    "            return nearest_labels.mean(axis=1)\n",
    "        else:\n",
    "            dist, ind = self.__nn.kneighbors(X, return_distance=True)\n",
    "            inv = np.reciprocal(dist + 1e-5, dtype=np.float64)\n",
    "            inv /= inv.sum(axis=1)[:, np.newaxis]\n",
    "            nearest_labels = self.__labels[ind]\n",
    "            return np.diag(np.dot(nearest_labels, inv.T))"
   ]
  },
  {
   "cell_type": "markdown",
   "metadata": {},
   "source": [
    "## Часть 2: Категориальные признаки"
   ]
  },
  {
   "cell_type": "markdown",
   "metadata": {},
   "source": [
    "<b>2.1 (1 балл)</b>\n",
    "Реализуйте три функции расстояния на категориальных признаках, которые обсуждались на [третьем семинаре](https://github.com/mmp-mmro-team/mmp_mmro_fall_2019/blob/master/lecture-notes/Sem03_knn.pdf). Не забудьте, что KNNRegressor должен уметь работать с этими функциями расстояния. Как вариант, можно реализовать метрики как [user-defined distance](http://scikit-learn.org/stable/modules/generated/sklearn.neighbors.DistanceMetric.html)."
   ]
  },
  {
   "cell_type": "code",
   "execution_count": 5,
   "metadata": {},
   "outputs": [],
   "source": [
    "class overlap:\n",
    "    def __call__(self, x, z):\n",
    "        return (x != z).sum()\n",
    "\n",
    "class flattened_overlap:\n",
    "    def fit(self, X_train):\n",
    "        self.f = []\n",
    "        self.l = X_train.shape[0]\n",
    "        for column in X_train.T:\n",
    "            d = dict(zip(*np.unique(column, return_counts=True)))\n",
    "            self.f.append(d)\n",
    "    \n",
    "    def _f(self, j, x):\n",
    "        if x in self.f[j].keys():\n",
    "            return self.f[j][x]\n",
    "        else:\n",
    "            return 0\n",
    "    \n",
    "    def _p(self, j, x):\n",
    "        return self._f(j, x) / self.l\n",
    "    \n",
    "    def _p_squared(self, j, x):\n",
    "        return (self._f(j, x) * (self._f(j, x) - 1)) / (self.l * (self.l - 1))\n",
    "    \n",
    "    def __call__(self, x, z):\n",
    "        result = 0\n",
    "        for i in range(len(x)):\n",
    "            if x[i] != z[i]:\n",
    "                result += 1\n",
    "            else:\n",
    "                tresh = self._p(i, x[i])\n",
    "                for q in self.f[i].keys():\n",
    "                    if self._p(i, q) <= tresh:\n",
    "                        result += self._p_squared(i, q)\n",
    "        return result\n",
    "\n",
    "class log_overlap:\n",
    "    def fit(self, X_train):\n",
    "        self.f = []\n",
    "        self.l = X_train.shape[0]\n",
    "        for column in X_train.T:\n",
    "            d = dict(zip(*np.unique(column, return_counts=True)))\n",
    "            self.f.append(d)\n",
    "    \n",
    "    def _f(self, j, x):\n",
    "        if x in self.f[j].keys():\n",
    "            return self.f[j][x]\n",
    "        else:\n",
    "            return 0\n",
    "            \n",
    "    def __call__(self, x, z):\n",
    "        result = 0\n",
    "        for i in range(len(x)):\n",
    "            if x[i] != z[i]:\n",
    "                result += np.log(self._f(i, x[i]) + 1) * np.log(self._f(i, z[i]) + 1)\n",
    "        return result"
   ]
  },
  {
   "cell_type": "markdown",
   "metadata": {},
   "source": [
    "<b>2.2 (1 балл)</b> Найдите все категориальные признаки в данных. Подсчитайте для каждой из метрик качество на тестовой выборке `X_test` при числе соседей $k = 10$. Качество измеряйте с помощью RMSE.\n",
    "\n",
    "Какая функция расстояния оказалась лучшей? Почему?"
   ]
  },
  {
   "cell_type": "markdown",
   "metadata": {},
   "source": [
    "Lets look at number of unique values in each column."
   ]
  },
  {
   "cell_type": "code",
   "execution_count": 6,
   "metadata": {
    "scrolled": true
   },
   "outputs": [
    {
     "name": "stdout",
     "output_type": "stream",
     "text": [
      "id 48895\n",
      "name 47905\n",
      "host_id 37457\n",
      "host_name 11452\n",
      "neighbourhood_group 5\n",
      "neighbourhood 221\n",
      "latitude 19048\n",
      "longitude 14718\n",
      "room_type 3\n",
      "price 674\n",
      "minimum_nights 109\n",
      "number_of_reviews 394\n",
      "last_review 1764\n",
      "reviews_per_month 937\n",
      "calculated_host_listings_count 47\n",
      "availability_365 366\n"
     ]
    }
   ],
   "source": [
    "for col_name in data.columns:\n",
    "    print(col_name, data[col_name].nunique())"
   ]
  },
  {
   "cell_type": "code",
   "execution_count": 7,
   "metadata": {},
   "outputs": [
    {
     "data": {
      "text/plain": [
       "0         Brooklyn\n",
       "1        Manhattan\n",
       "2        Manhattan\n",
       "3         Brooklyn\n",
       "4        Manhattan\n",
       "           ...    \n",
       "48890     Brooklyn\n",
       "48891     Brooklyn\n",
       "48892    Manhattan\n",
       "48893    Manhattan\n",
       "48894    Manhattan\n",
       "Name: neighbourhood_group, Length: 48895, dtype: object"
      ]
     },
     "execution_count": 7,
     "metadata": {},
     "output_type": "execute_result"
    }
   ],
   "source": [
    "data['neighbourhood_group']"
   ]
  },
  {
   "cell_type": "code",
   "execution_count": 8,
   "metadata": {},
   "outputs": [
    {
     "data": {
      "text/plain": [
       "0                Kensington\n",
       "1                   Midtown\n",
       "2                    Harlem\n",
       "3              Clinton Hill\n",
       "4               East Harlem\n",
       "                ...        \n",
       "48890    Bedford-Stuyvesant\n",
       "48891              Bushwick\n",
       "48892                Harlem\n",
       "48893        Hell's Kitchen\n",
       "48894        Hell's Kitchen\n",
       "Name: neighbourhood, Length: 48895, dtype: object"
      ]
     },
     "execution_count": 8,
     "metadata": {},
     "output_type": "execute_result"
    }
   ],
   "source": [
    "data['neighbourhood']"
   ]
  },
  {
   "cell_type": "code",
   "execution_count": 9,
   "metadata": {},
   "outputs": [
    {
     "data": {
      "text/plain": [
       "0           Private room\n",
       "1        Entire home/apt\n",
       "2           Private room\n",
       "3        Entire home/apt\n",
       "4        Entire home/apt\n",
       "              ...       \n",
       "48890       Private room\n",
       "48891       Private room\n",
       "48892    Entire home/apt\n",
       "48893        Shared room\n",
       "48894       Private room\n",
       "Name: room_type, Length: 48895, dtype: object"
      ]
     },
     "execution_count": 9,
     "metadata": {},
     "output_type": "execute_result"
    }
   ],
   "source": [
    "data['room_type']"
   ]
  },
  {
   "cell_type": "markdown",
   "metadata": {
    "collapsed": true
   },
   "source": [
    "As we can see, these column contain some categorical labels. Although last 7 columns contain few unique values, they are continuous. First 3 columns are also useless for model since they are just unique names."
   ]
  },
  {
   "cell_type": "markdown",
   "metadata": {},
   "source": [
    "Remark from Telegram:<br>\n",
    "Мария, [19.10.19 17:37]\n",
    "Да, остальные (не категориальные)признаки не нужны в этом пункте"
   ]
  },
  {
   "cell_type": "code",
   "execution_count": 1,
   "metadata": {},
   "outputs": [
    {
     "ename": "NameError",
     "evalue": "name 'X_train' is not defined",
     "output_type": "error",
     "traceback": [
      "\u001b[0;31m\u001b[0m",
      "\u001b[0;31mNameError\u001b[0mTraceback (most recent call last)",
      "\u001b[0;32m<ipython-input-1-0f075af2e68a>\u001b[0m in \u001b[0;36m<module>\u001b[0;34m()\u001b[0m\n\u001b[0;32m----> 1\u001b[0;31m \u001b[0mX_train_cat\u001b[0m \u001b[0;34m=\u001b[0m \u001b[0mX_train\u001b[0m\u001b[0;34m[\u001b[0m\u001b[0;34m[\u001b[0m\u001b[0;34m'neighbourhood_group'\u001b[0m\u001b[0;34m,\u001b[0m \u001b[0;34m'neighbourhood'\u001b[0m\u001b[0;34m,\u001b[0m \u001b[0;34m'room_type'\u001b[0m\u001b[0;34m]\u001b[0m\u001b[0;34m]\u001b[0m\u001b[0;34m\u001b[0m\u001b[0m\n\u001b[0m\u001b[1;32m      2\u001b[0m \u001b[0mX_test_cat\u001b[0m \u001b[0;34m=\u001b[0m \u001b[0mX_test\u001b[0m\u001b[0;34m[\u001b[0m\u001b[0;34m[\u001b[0m\u001b[0;34m'neighbourhood_group'\u001b[0m\u001b[0;34m,\u001b[0m \u001b[0;34m'neighbourhood'\u001b[0m\u001b[0;34m,\u001b[0m \u001b[0;34m'room_type'\u001b[0m\u001b[0;34m]\u001b[0m\u001b[0;34m]\u001b[0m\u001b[0;34m\u001b[0m\u001b[0m\n",
      "\u001b[0;31mNameError\u001b[0m: name 'X_train' is not defined"
     ]
    }
   ],
   "source": [
    "X_train_cat = X_train[['neighbourhood_group', 'neighbourhood', 'room_type']]\n",
    "X_test_cat = X_test[['neighbourhood_group', 'neighbourhood', 'room_type']]"
   ]
  },
  {
   "cell_type": "code",
   "execution_count": 34,
   "metadata": {},
   "outputs": [
    {
     "name": "stderr",
     "output_type": "stream",
     "text": [
      "C:\\conda\\lib\\site-packages\\pandas\\core\\indexing.py:576: SettingWithCopyWarning: \n",
      "A value is trying to be set on a copy of a slice from a DataFrame.\n",
      "Try using .loc[row_indexer,col_indexer] = value instead\n",
      "\n",
      "See the caveats in the documentation: http://pandas.pydata.org/pandas-docs/stable/user_guide/indexing.html#returning-a-view-versus-a-copy\n",
      "  self.obj[item_labels[indexer[info_axis]]] = value\n",
      "C:\\conda\\lib\\site-packages\\pandas\\core\\indexing.py:494: SettingWithCopyWarning: \n",
      "A value is trying to be set on a copy of a slice from a DataFrame.\n",
      "Try using .loc[row_indexer,col_indexer] = value instead\n",
      "\n",
      "See the caveats in the documentation: http://pandas.pydata.org/pandas-docs/stable/user_guide/indexing.html#returning-a-view-versus-a-copy\n",
      "  self.obj[item] = s\n"
     ]
    }
   ],
   "source": [
    "for i in range(3):\n",
    "    label_encoder = preprocessing.LabelEncoder()\n",
    "    label_encoder.fit(np.concatenate((X_train_cat.iloc[:, i].values, X_test_cat.iloc[:, i].values)))\n",
    "    X_train_cat.iloc[:, i] = label_encoder.transform(X_train_cat.iloc[:, i])\n",
    "    X_test_cat.iloc[:, i] = label_encoder.transform(X_test_cat.iloc[:, i])"
   ]
  },
  {
   "cell_type": "code",
   "execution_count": 12,
   "metadata": {},
   "outputs": [],
   "source": [
    "metric_overlap = overlap()\n",
    "metric_log_overlap = log_overlap()\n",
    "metric_flatten_overlap = flattened_overlap()\n",
    "metric_log_overlap.fit(X_train_cat.values)\n",
    "metric_flatten_overlap.fit(X_train_cat.values)"
   ]
  },
  {
   "cell_type": "markdown",
   "metadata": {},
   "source": [
    "### Overlap "
   ]
  },
  {
   "cell_type": "code",
   "execution_count": 18,
   "metadata": {},
   "outputs": [
    {
     "name": "stdout",
     "output_type": "stream",
     "text": [
      "Wall time: 8min 19s\n"
     ]
    }
   ],
   "source": [
    "%%time\n",
    "clf = KNNRegressor(10, metric_overlap, 'distances')\n",
    "clf.fit(X_train_cat.values, y_train.values.flatten())\n",
    "res_overlap = clf.predict(X_test_cat.values)"
   ]
  },
  {
   "cell_type": "code",
   "execution_count": 153,
   "metadata": {},
   "outputs": [
    {
     "data": {
      "text/plain": [
       "array([145.7, 187.9, 169.9, ..., 526.1, 361.2, 330.3])"
      ]
     },
     "execution_count": 153,
     "metadata": {},
     "output_type": "execute_result"
    }
   ],
   "source": [
    "res_overlap"
   ]
  },
  {
   "cell_type": "markdown",
   "metadata": {},
   "source": [
    "RMSE"
   ]
  },
  {
   "cell_type": "code",
   "execution_count": 152,
   "metadata": {},
   "outputs": [
    {
     "data": {
      "text/plain": [
       "217.5072094187037"
      ]
     },
     "execution_count": 152,
     "metadata": {},
     "output_type": "execute_result"
    }
   ],
   "source": [
    "np.sqrt(((res_overlap - y_test.values.flatten()) ** 2).mean())"
   ]
  },
  {
   "cell_type": "markdown",
   "metadata": {},
   "source": [
    "### Log overlap"
   ]
  },
  {
   "cell_type": "code",
   "execution_count": 157,
   "metadata": {},
   "outputs": [
    {
     "name": "stdout",
     "output_type": "stream",
     "text": [
      "Wall time: 37min 45s\n"
     ]
    }
   ],
   "source": [
    "%%time\n",
    "clf = KNNRegressor(10, metric_log_overlap, 'distances')\n",
    "clf.fit(X_train_cat.values, y_train.values.flatten())\n",
    "res_log = clf.predict(X_test_cat.values)"
   ]
  },
  {
   "cell_type": "code",
   "execution_count": 158,
   "metadata": {},
   "outputs": [
    {
     "data": {
      "text/plain": [
       "array([145.7, 187.9, 169.9, ..., 526.1, 361.2, 330.3])"
      ]
     },
     "execution_count": 158,
     "metadata": {},
     "output_type": "execute_result"
    }
   ],
   "source": [
    "res_log"
   ]
  },
  {
   "cell_type": "code",
   "execution_count": 162,
   "metadata": {},
   "outputs": [
    {
     "data": {
      "text/plain": [
       "0.8044174790374259"
      ]
     },
     "execution_count": 162,
     "metadata": {},
     "output_type": "execute_result"
    }
   ],
   "source": [
    "(res_log == res_overlap).sum() / len(res_overlap)"
   ]
  },
  {
   "cell_type": "markdown",
   "metadata": {},
   "source": [
    "80% match with overlap answers"
   ]
  },
  {
   "cell_type": "markdown",
   "metadata": {},
   "source": [
    "RMSE"
   ]
  },
  {
   "cell_type": "code",
   "execution_count": 159,
   "metadata": {},
   "outputs": [
    {
     "data": {
      "text/plain": [
       "217.50213804866817"
      ]
     },
     "execution_count": 159,
     "metadata": {},
     "output_type": "execute_result"
    }
   ],
   "source": [
    "np.sqrt(((res_log - y_test.values.flatten()) ** 2).mean())"
   ]
  },
  {
   "cell_type": "markdown",
   "metadata": {},
   "source": [
    "### Flatten overlap"
   ]
  },
  {
   "cell_type": "code",
   "execution_count": 13,
   "metadata": {},
   "outputs": [
    {
     "name": "stdout",
     "output_type": "stream",
     "text": [
      "Wall time: 2h 22min 2s\n"
     ]
    }
   ],
   "source": [
    "%%time\n",
    "clf = KNNRegressor(10, metric_flatten_overlap, 'distances')\n",
    "clf.fit(X_train_cat.values, y_train.values.flatten())\n",
    "res_flatten = clf.predict(X_test_cat.values)"
   ]
  },
  {
   "cell_type": "code",
   "execution_count": 14,
   "metadata": {},
   "outputs": [
    {
     "data": {
      "text/plain": [
       "array([145.7, 187.9, 169.9, ..., 526.1, 361.2, 330.3])"
      ]
     },
     "execution_count": 14,
     "metadata": {},
     "output_type": "execute_result"
    }
   ],
   "source": [
    "res_flatten"
   ]
  },
  {
   "cell_type": "code",
   "execution_count": 19,
   "metadata": {},
   "outputs": [
    {
     "data": {
      "text/plain": [
       "0.682186924807417"
      ]
     },
     "execution_count": 19,
     "metadata": {},
     "output_type": "execute_result"
    }
   ],
   "source": [
    "(res_flatten == res_overlap).sum() / len(res_overlap)"
   ]
  },
  {
   "cell_type": "markdown",
   "metadata": {},
   "source": [
    "68% match with overlap answers"
   ]
  },
  {
   "cell_type": "markdown",
   "metadata": {},
   "source": [
    "RMSE"
   ]
  },
  {
   "cell_type": "code",
   "execution_count": 20,
   "metadata": {},
   "outputs": [
    {
     "data": {
      "text/plain": [
       "217.26930655862319"
      ]
     },
     "execution_count": 20,
     "metadata": {},
     "output_type": "execute_result"
    }
   ],
   "source": [
    "np.sqrt(((res_flatten - y_test.values.flatten()) ** 2).mean())"
   ]
  },
  {
   "cell_type": "markdown",
   "metadata": {},
   "source": [
    "The best results were shown by a model using flatten overlap metric. It's obvious that overlap is not the best way to calculate distance between categorical features (because is has no information about frequency of feature), but its hard to say why in this specific case flatten overlap works better."
   ]
  },
  {
   "cell_type": "markdown",
   "metadata": {},
   "source": [
    "<b>2.3 (1 балл) бонус</b> Подберите лучшее (на тестовой выборке) число соседей $k$ для каждой из функций расстояния. Какого удалось достичь уровня качества?"
   ]
  },
  {
   "cell_type": "markdown",
   "metadata": {},
   "source": [
    "<b>2.4 (2.5 балла)</b> Отойдем ненадолго от задачи регрессии и перейдём к задаче классификации: будем определять, являеться ли квартира дорогой $(target = 1)$ или дешевой $(target = 0)$. Будем считать дорогими квариры, цена которых выше среднего."
   ]
  },
  {
   "cell_type": "code",
   "execution_count": 39,
   "metadata": {},
   "outputs": [],
   "source": [
    "data['target'] = (data.price > data.price.mean()).astype(int)\n",
    "\n",
    "X_train, X_test, y_train, y_test = train_test_split(data.drop(columns=['price']), data[['price']],\n",
    "                                                    test_size=0.3, random_state=241)"
   ]
  },
  {
   "cell_type": "markdown",
   "metadata": {},
   "source": [
    "Реализуйте счетчики, которые заменят категориальные признаки на вещественные.\n",
    "\n",
    "А именно, для каждого категориального признака $f_j(x)$ необходимо сделать следующее:\n",
    "1. Число `counts` объектов в обучающей выборке с таким же значением признака.\n",
    "\\begin{align}\n",
    "counts_j(c) = \\sum_{i=1}^l [f_j(x_i) = c]\n",
    "\\end{align}\n",
    "2. Число `successes` объектов первого класса ($y = 1$) в обучающей выборке с таким же значением признака.\n",
    "\\begin{align}\n",
    "successes_j(c) = \\sum_{i=1}^l[f_j(x_i) = c][y_i = +1].\n",
    "\\end{align}\n",
    "3. Сглаженное отношение двух предыдущих величин:\n",
    "\\begin{align}\n",
    "p_j(c) = \\frac{successes_j(c) + a}{counts_j(c) + b},\n",
    "\\end{align}\n",
    "\n",
    "где $a$ и $b$ - априорные счетчики (например, a = 1, b = 2)."
   ]
  },
  {
   "cell_type": "code",
   "execution_count": 86,
   "metadata": {},
   "outputs": [],
   "source": [
    "def counts_cnt(X_train, X_test):\n",
    "    d = dict(zip(*np.unique(X_train, return_counts=True)))\n",
    "    return np.array([d[t] if t in d.keys() else 0 for t in X_test])\n",
    "\n",
    "def success_cnt(X_train, y, X_test):\n",
    "    u = X_train[y == 1]\n",
    "    d = dict(zip(*np.unique(u, return_counts=True)))\n",
    "    return np.array([d[t] if t in d.keys() else 0 for t in X_test])\n",
    "\n",
    "def flatten_cnt(X_train, y, X_test, a, b):\n",
    "    return (success_cnt(X_train, y, X_test) + a) / (counts_cnt(X_train, X_test) + b)"
   ]
  },
  {
   "cell_type": "markdown",
   "metadata": {},
   "source": [
    "Поскольку признаки, содержащие информацию о целевой переменной, могут привести к переобучению, может оказаться полезным сделать *фолдинг*: разбить обучающую выборку на $n$ частей, и для $i$-й части считать `counts` и `successes` по всем остальным частям. Для тестовой выборки используются счетчики, посчитанный по всей обучающей выборке. Реализуйте и такой вариант. Достаточно взять $n = 3$."
   ]
  },
  {
   "cell_type": "code",
   "execution_count": 87,
   "metadata": {},
   "outputs": [],
   "source": [
    "def kfold(n, n_folds):\n",
    "    my_range = np.arange(n)\n",
    "    result = []\n",
    "    fold_size = int(np.ceil(n / n_folds))\n",
    "    for k in range(n_folds):\n",
    "        train_1 = np.arange(0, k * fold_size)\n",
    "        train_2 = np.arange((k + 1) * fold_size, n)\n",
    "        val = np.arange(k * fold_size, min((k + 1) * fold_size, n))\n",
    "        result.append( (np.concatenate((train_1, train_2)), val) )\n",
    "    return result\n",
    "\n",
    "def fold_counters(x, fold_num, labels):\n",
    "    \"\"\"\n",
    "    params:\n",
    "        x: value on categorical feature for N objects\n",
    "    returns: vector of length N\n",
    "    \"\"\"\n",
    "    result1 = np.zeros(len(x))\n",
    "    result2 = np.zeros(len(x))\n",
    "    result3 = np.zeros(len(x))\n",
    "    folds = kfold(len(x), fold_num)\n",
    "    for idx_train, idx_test in folds:\n",
    "        result1[idx_test] = flatten_cnt(x[idx_train], labels[idx_train], x[idx_test], 1, 2)\n",
    "        result2[idx_test] = counts_cnt(x[idx_train], x[idx_test])\n",
    "        result3[idx_test] = success_cnt(x[idx_train], labels[idx_train], x[idx_test])\n",
    "    return result1, result2, result3"
   ]
  },
  {
   "cell_type": "markdown",
   "metadata": {},
   "source": [
    "Посчитайте на тесте AUC-ROC метода $k$ ближайших соседей с евклидовой метрикой для выборки, где категориальные признаки заменены на счетчики. Сравните по AUC-ROC два варианта формирования выборки — с фолдингом и без. Не забудьте подобрать наилучшее число соседей $k$."
   ]
  },
  {
   "cell_type": "markdown",
   "metadata": {},
   "source": [
    "### With folding"
   ]
  },
  {
   "cell_type": "code",
   "execution_count": 156,
   "metadata": {},
   "outputs": [],
   "source": [
    "X_train_cat = X_train[['neighbourhood_group', 'neighbourhood', 'room_type', 'target']]\n",
    "X_test_cat = X_test[['neighbourhood_group', 'neighbourhood', 'room_type', 'target']]"
   ]
  },
  {
   "cell_type": "code",
   "execution_count": 157,
   "metadata": {},
   "outputs": [
    {
     "name": "stderr",
     "output_type": "stream",
     "text": [
      "C:\\conda\\lib\\site-packages\\ipykernel_launcher.py:9: SettingWithCopyWarning: \n",
      "A value is trying to be set on a copy of a slice from a DataFrame.\n",
      "Try using .loc[row_indexer,col_indexer] = value instead\n",
      "\n",
      "See the caveats in the documentation: http://pandas.pydata.org/pandas-docs/stable/user_guide/indexing.html#returning-a-view-versus-a-copy\n",
      "  if __name__ == '__main__':\n",
      "C:\\conda\\lib\\site-packages\\ipykernel_launcher.py:10: SettingWithCopyWarning: \n",
      "A value is trying to be set on a copy of a slice from a DataFrame.\n",
      "Try using .loc[row_indexer,col_indexer] = value instead\n",
      "\n",
      "See the caveats in the documentation: http://pandas.pydata.org/pandas-docs/stable/user_guide/indexing.html#returning-a-view-versus-a-copy\n",
      "  # Remove the CWD from sys.path while we load stuff.\n",
      "C:\\conda\\lib\\site-packages\\ipykernel_launcher.py:11: SettingWithCopyWarning: \n",
      "A value is trying to be set on a copy of a slice from a DataFrame.\n",
      "Try using .loc[row_indexer,col_indexer] = value instead\n",
      "\n",
      "See the caveats in the documentation: http://pandas.pydata.org/pandas-docs/stable/user_guide/indexing.html#returning-a-view-versus-a-copy\n",
      "  # This is added back by InteractiveShellApp.init_path()\n",
      "C:\\conda\\lib\\site-packages\\ipykernel_launcher.py:17: SettingWithCopyWarning: \n",
      "A value is trying to be set on a copy of a slice from a DataFrame.\n",
      "Try using .loc[row_indexer,col_indexer] = value instead\n",
      "\n",
      "See the caveats in the documentation: http://pandas.pydata.org/pandas-docs/stable/user_guide/indexing.html#returning-a-view-versus-a-copy\n",
      "C:\\conda\\lib\\site-packages\\ipykernel_launcher.py:18: SettingWithCopyWarning: \n",
      "A value is trying to be set on a copy of a slice from a DataFrame.\n",
      "Try using .loc[row_indexer,col_indexer] = value instead\n",
      "\n",
      "See the caveats in the documentation: http://pandas.pydata.org/pandas-docs/stable/user_guide/indexing.html#returning-a-view-versus-a-copy\n",
      "C:\\conda\\lib\\site-packages\\ipykernel_launcher.py:19: SettingWithCopyWarning: \n",
      "A value is trying to be set on a copy of a slice from a DataFrame.\n",
      "Try using .loc[row_indexer,col_indexer] = value instead\n",
      "\n",
      "See the caveats in the documentation: http://pandas.pydata.org/pandas-docs/stable/user_guide/indexing.html#returning-a-view-versus-a-copy\n",
      "C:\\conda\\lib\\site-packages\\ipykernel_launcher.py:25: SettingWithCopyWarning: \n",
      "A value is trying to be set on a copy of a slice from a DataFrame.\n",
      "Try using .loc[row_indexer,col_indexer] = value instead\n",
      "\n",
      "See the caveats in the documentation: http://pandas.pydata.org/pandas-docs/stable/user_guide/indexing.html#returning-a-view-versus-a-copy\n",
      "C:\\conda\\lib\\site-packages\\ipykernel_launcher.py:26: SettingWithCopyWarning: \n",
      "A value is trying to be set on a copy of a slice from a DataFrame.\n",
      "Try using .loc[row_indexer,col_indexer] = value instead\n",
      "\n",
      "See the caveats in the documentation: http://pandas.pydata.org/pandas-docs/stable/user_guide/indexing.html#returning-a-view-versus-a-copy\n",
      "C:\\conda\\lib\\site-packages\\ipykernel_launcher.py:27: SettingWithCopyWarning: \n",
      "A value is trying to be set on a copy of a slice from a DataFrame.\n",
      "Try using .loc[row_indexer,col_indexer] = value instead\n",
      "\n",
      "See the caveats in the documentation: http://pandas.pydata.org/pandas-docs/stable/user_guide/indexing.html#returning-a-view-versus-a-copy\n",
      "C:\\conda\\lib\\site-packages\\pandas\\core\\frame.py:4102: SettingWithCopyWarning: \n",
      "A value is trying to be set on a copy of a slice from a DataFrame\n",
      "\n",
      "See the caveats in the documentation: http://pandas.pydata.org/pandas-docs/stable/user_guide/indexing.html#returning-a-view-versus-a-copy\n",
      "  errors=errors,\n",
      "C:\\conda\\lib\\site-packages\\ipykernel_launcher.py:36: SettingWithCopyWarning: \n",
      "A value is trying to be set on a copy of a slice from a DataFrame.\n",
      "Try using .loc[row_indexer,col_indexer] = value instead\n",
      "\n",
      "See the caveats in the documentation: http://pandas.pydata.org/pandas-docs/stable/user_guide/indexing.html#returning-a-view-versus-a-copy\n",
      "C:\\conda\\lib\\site-packages\\ipykernel_launcher.py:37: SettingWithCopyWarning: \n",
      "A value is trying to be set on a copy of a slice from a DataFrame.\n",
      "Try using .loc[row_indexer,col_indexer] = value instead\n",
      "\n",
      "See the caveats in the documentation: http://pandas.pydata.org/pandas-docs/stable/user_guide/indexing.html#returning-a-view-versus-a-copy\n",
      "C:\\conda\\lib\\site-packages\\ipykernel_launcher.py:38: SettingWithCopyWarning: \n",
      "A value is trying to be set on a copy of a slice from a DataFrame.\n",
      "Try using .loc[row_indexer,col_indexer] = value instead\n",
      "\n",
      "See the caveats in the documentation: http://pandas.pydata.org/pandas-docs/stable/user_guide/indexing.html#returning-a-view-versus-a-copy\n",
      "C:\\conda\\lib\\site-packages\\ipykernel_launcher.py:40: SettingWithCopyWarning: \n",
      "A value is trying to be set on a copy of a slice from a DataFrame.\n",
      "Try using .loc[row_indexer,col_indexer] = value instead\n",
      "\n",
      "See the caveats in the documentation: http://pandas.pydata.org/pandas-docs/stable/user_guide/indexing.html#returning-a-view-versus-a-copy\n",
      "C:\\conda\\lib\\site-packages\\ipykernel_launcher.py:41: SettingWithCopyWarning: \n",
      "A value is trying to be set on a copy of a slice from a DataFrame.\n",
      "Try using .loc[row_indexer,col_indexer] = value instead\n",
      "\n",
      "See the caveats in the documentation: http://pandas.pydata.org/pandas-docs/stable/user_guide/indexing.html#returning-a-view-versus-a-copy\n",
      "C:\\conda\\lib\\site-packages\\ipykernel_launcher.py:42: SettingWithCopyWarning: \n",
      "A value is trying to be set on a copy of a slice from a DataFrame.\n",
      "Try using .loc[row_indexer,col_indexer] = value instead\n",
      "\n",
      "See the caveats in the documentation: http://pandas.pydata.org/pandas-docs/stable/user_guide/indexing.html#returning-a-view-versus-a-copy\n",
      "C:\\conda\\lib\\site-packages\\ipykernel_launcher.py:44: SettingWithCopyWarning: \n",
      "A value is trying to be set on a copy of a slice from a DataFrame.\n",
      "Try using .loc[row_indexer,col_indexer] = value instead\n",
      "\n",
      "See the caveats in the documentation: http://pandas.pydata.org/pandas-docs/stable/user_guide/indexing.html#returning-a-view-versus-a-copy\n",
      "C:\\conda\\lib\\site-packages\\ipykernel_launcher.py:45: SettingWithCopyWarning: \n",
      "A value is trying to be set on a copy of a slice from a DataFrame.\n",
      "Try using .loc[row_indexer,col_indexer] = value instead\n",
      "\n",
      "See the caveats in the documentation: http://pandas.pydata.org/pandas-docs/stable/user_guide/indexing.html#returning-a-view-versus-a-copy\n",
      "C:\\conda\\lib\\site-packages\\ipykernel_launcher.py:46: SettingWithCopyWarning: \n",
      "A value is trying to be set on a copy of a slice from a DataFrame.\n",
      "Try using .loc[row_indexer,col_indexer] = value instead\n",
      "\n",
      "See the caveats in the documentation: http://pandas.pydata.org/pandas-docs/stable/user_guide/indexing.html#returning-a-view-versus-a-copy\n"
     ]
    }
   ],
   "source": [
    "# Test\n",
    "target_train = X_train_cat['target'].values\n",
    "target_test  = X_test_cat['target'].values\n",
    "\n",
    "flatten_1 = flatten_cnt(X_train_cat['neighbourhood_group'].values, target_train, X_test_cat['neighbourhood_group'].values, 1, 2)\n",
    "counts_1 = counts_cnt(X_train_cat['neighbourhood_group'].values, X_test_cat['neighbourhood_group'].values)\n",
    "success_1 = success_cnt(X_train_cat['neighbourhood_group'].values, target_train, X_test_cat['neighbourhood_group'].values)\n",
    "\n",
    "X_test_cat['neighbourhood_group_f'] = flatten_1\n",
    "X_test_cat['neighbourhood_group_c'] = counts_1\n",
    "X_test_cat['neighbourhood_group_s'] = success_1\n",
    "\n",
    "flatten_2 = flatten_cnt(X_train_cat['neighbourhood'].values, target_train, X_test_cat['neighbourhood'].values, 1, 2)\n",
    "counts_2 = counts_cnt(X_train_cat['neighbourhood'].values, X_test_cat['neighbourhood'].values)\n",
    "success_2 = success_cnt(X_train_cat['neighbourhood'].values, target_train, X_test_cat['neighbourhood'].values)\n",
    "\n",
    "X_test_cat['neighbourhood_f'] = flatten_2\n",
    "X_test_cat['neighbourhood_c'] = counts_2\n",
    "X_test_cat['neighbourhood_s'] = success_2\n",
    "\n",
    "flatten_3 = flatten_cnt(X_train_cat['room_type'].values, target_train, X_test_cat['room_type'].values, 1, 2)\n",
    "counts_3 = counts_cnt(X_train_cat['room_type'].values, X_test_cat['room_type'].values)\n",
    "success_3 = success_cnt(X_train_cat['room_type'].values, target_train, X_test_cat['room_type'].values)\n",
    "\n",
    "X_test_cat['room_type_f'] = flatten_3\n",
    "X_test_cat['room_type_c'] = counts_3\n",
    "X_test_cat['room_type_s'] = success_3\n",
    "    \n",
    "X_test_cat.drop(columns=['neighbourhood_group', 'neighbourhood', 'room_type', 'target'], inplace=True)\n",
    "\n",
    "# Train\n",
    "t_flatten_1, t_counts_1, t_success_1 = fold_counters(X_train_cat['neighbourhood_group'].values, 3, target_train)\n",
    "t_flatten_2, t_counts_2, t_success_2 = fold_counters(X_train_cat['neighbourhood'].values, 3, target_train)\n",
    "t_flatten_3, t_counts_3, t_success_3 = fold_counters(X_train_cat['room_type'].values, 3, target_train)\n",
    "\n",
    "X_train_cat['neighbourhood_group_f'] = t_flatten_1\n",
    "X_train_cat['neighbourhood_group_c'] = t_counts_1\n",
    "X_train_cat['neighbourhood_group_s'] = t_success_1\n",
    "\n",
    "X_train_cat['neighbourhood_f'] = t_flatten_2\n",
    "X_train_cat['neighbourhood_c'] = t_counts_2\n",
    "X_train_cat['neighbourhood_s'] = t_success_2\n",
    "\n",
    "X_train_cat['room_type_f'] = t_flatten_3\n",
    "X_train_cat['room_type_c'] = t_counts_3\n",
    "X_train_cat['room_type_s'] = t_success_3\n",
    "\n",
    "X_train_cat.drop(columns=['neighbourhood_group', 'neighbourhood', 'room_type', 'target'], inplace=True)"
   ]
  },
  {
   "cell_type": "markdown",
   "metadata": {},
   "source": [
    "### ROC-AUC scores with folding"
   ]
  },
  {
   "cell_type": "code",
   "execution_count": 159,
   "metadata": {},
   "outputs": [
    {
     "name": "stdout",
     "output_type": "stream",
     "text": [
      "best results: k = 91, ROC-AUC = 0.8668711579869955\n"
     ]
    }
   ],
   "source": [
    "k_param = np.arange(1, 100, 5)\n",
    "\n",
    "nrm = Normalizer()\n",
    "nrm.fit(X_train_cat)\n",
    "X_train_cat = nrm.transform(X_train_cat)\n",
    "X_test_cat = nrm.transform(X_test_cat)\n",
    "\n",
    "best_k = -1\n",
    "max_score = -1\n",
    "for k in k_param:\n",
    "    clf = KNeighborsClassifier(k, metric='euclidean', weights='distance')\n",
    "    clf.fit(X_train_cat, target_train)\n",
    "    pred = clf.predict_proba(X_test_cat)[:, 1]\n",
    "    score = roc_auc_score(target_test, pred)\n",
    "    #print(f'k: {k} | ROC-AUC: {score}')\n",
    "    if score > max_score:\n",
    "        best_k = k\n",
    "        max_score = score\n",
    "print(f'best results: k = {best_k}, ROC-AUC = {max_score}')"
   ]
  },
  {
   "cell_type": "markdown",
   "metadata": {},
   "source": [
    "### Without folding"
   ]
  },
  {
   "cell_type": "code",
   "execution_count": 160,
   "metadata": {},
   "outputs": [],
   "source": [
    "X_train_cat = X_train[['neighbourhood_group', 'neighbourhood', 'room_type', 'target']]\n",
    "X_test_cat = X_test[['neighbourhood_group', 'neighbourhood', 'room_type', 'target']]"
   ]
  },
  {
   "cell_type": "code",
   "execution_count": 161,
   "metadata": {},
   "outputs": [
    {
     "name": "stderr",
     "output_type": "stream",
     "text": [
      "C:\\conda\\lib\\site-packages\\ipykernel_launcher.py:9: SettingWithCopyWarning: \n",
      "A value is trying to be set on a copy of a slice from a DataFrame.\n",
      "Try using .loc[row_indexer,col_indexer] = value instead\n",
      "\n",
      "See the caveats in the documentation: http://pandas.pydata.org/pandas-docs/stable/user_guide/indexing.html#returning-a-view-versus-a-copy\n",
      "  if __name__ == '__main__':\n",
      "C:\\conda\\lib\\site-packages\\ipykernel_launcher.py:10: SettingWithCopyWarning: \n",
      "A value is trying to be set on a copy of a slice from a DataFrame.\n",
      "Try using .loc[row_indexer,col_indexer] = value instead\n",
      "\n",
      "See the caveats in the documentation: http://pandas.pydata.org/pandas-docs/stable/user_guide/indexing.html#returning-a-view-versus-a-copy\n",
      "  # Remove the CWD from sys.path while we load stuff.\n",
      "C:\\conda\\lib\\site-packages\\ipykernel_launcher.py:11: SettingWithCopyWarning: \n",
      "A value is trying to be set on a copy of a slice from a DataFrame.\n",
      "Try using .loc[row_indexer,col_indexer] = value instead\n",
      "\n",
      "See the caveats in the documentation: http://pandas.pydata.org/pandas-docs/stable/user_guide/indexing.html#returning-a-view-versus-a-copy\n",
      "  # This is added back by InteractiveShellApp.init_path()\n",
      "C:\\conda\\lib\\site-packages\\ipykernel_launcher.py:17: SettingWithCopyWarning: \n",
      "A value is trying to be set on a copy of a slice from a DataFrame.\n",
      "Try using .loc[row_indexer,col_indexer] = value instead\n",
      "\n",
      "See the caveats in the documentation: http://pandas.pydata.org/pandas-docs/stable/user_guide/indexing.html#returning-a-view-versus-a-copy\n",
      "C:\\conda\\lib\\site-packages\\ipykernel_launcher.py:18: SettingWithCopyWarning: \n",
      "A value is trying to be set on a copy of a slice from a DataFrame.\n",
      "Try using .loc[row_indexer,col_indexer] = value instead\n",
      "\n",
      "See the caveats in the documentation: http://pandas.pydata.org/pandas-docs/stable/user_guide/indexing.html#returning-a-view-versus-a-copy\n",
      "C:\\conda\\lib\\site-packages\\ipykernel_launcher.py:19: SettingWithCopyWarning: \n",
      "A value is trying to be set on a copy of a slice from a DataFrame.\n",
      "Try using .loc[row_indexer,col_indexer] = value instead\n",
      "\n",
      "See the caveats in the documentation: http://pandas.pydata.org/pandas-docs/stable/user_guide/indexing.html#returning-a-view-versus-a-copy\n",
      "C:\\conda\\lib\\site-packages\\ipykernel_launcher.py:25: SettingWithCopyWarning: \n",
      "A value is trying to be set on a copy of a slice from a DataFrame.\n",
      "Try using .loc[row_indexer,col_indexer] = value instead\n",
      "\n",
      "See the caveats in the documentation: http://pandas.pydata.org/pandas-docs/stable/user_guide/indexing.html#returning-a-view-versus-a-copy\n",
      "C:\\conda\\lib\\site-packages\\ipykernel_launcher.py:26: SettingWithCopyWarning: \n",
      "A value is trying to be set on a copy of a slice from a DataFrame.\n",
      "Try using .loc[row_indexer,col_indexer] = value instead\n",
      "\n",
      "See the caveats in the documentation: http://pandas.pydata.org/pandas-docs/stable/user_guide/indexing.html#returning-a-view-versus-a-copy\n",
      "C:\\conda\\lib\\site-packages\\ipykernel_launcher.py:27: SettingWithCopyWarning: \n",
      "A value is trying to be set on a copy of a slice from a DataFrame.\n",
      "Try using .loc[row_indexer,col_indexer] = value instead\n",
      "\n",
      "See the caveats in the documentation: http://pandas.pydata.org/pandas-docs/stable/user_guide/indexing.html#returning-a-view-versus-a-copy\n",
      "C:\\conda\\lib\\site-packages\\pandas\\core\\frame.py:4102: SettingWithCopyWarning: \n",
      "A value is trying to be set on a copy of a slice from a DataFrame\n",
      "\n",
      "See the caveats in the documentation: http://pandas.pydata.org/pandas-docs/stable/user_guide/indexing.html#returning-a-view-versus-a-copy\n",
      "  errors=errors,\n",
      "C:\\conda\\lib\\site-packages\\ipykernel_launcher.py:36: SettingWithCopyWarning: \n",
      "A value is trying to be set on a copy of a slice from a DataFrame.\n",
      "Try using .loc[row_indexer,col_indexer] = value instead\n",
      "\n",
      "See the caveats in the documentation: http://pandas.pydata.org/pandas-docs/stable/user_guide/indexing.html#returning-a-view-versus-a-copy\n",
      "C:\\conda\\lib\\site-packages\\ipykernel_launcher.py:37: SettingWithCopyWarning: \n",
      "A value is trying to be set on a copy of a slice from a DataFrame.\n",
      "Try using .loc[row_indexer,col_indexer] = value instead\n",
      "\n",
      "See the caveats in the documentation: http://pandas.pydata.org/pandas-docs/stable/user_guide/indexing.html#returning-a-view-versus-a-copy\n",
      "C:\\conda\\lib\\site-packages\\ipykernel_launcher.py:38: SettingWithCopyWarning: \n",
      "A value is trying to be set on a copy of a slice from a DataFrame.\n",
      "Try using .loc[row_indexer,col_indexer] = value instead\n",
      "\n",
      "See the caveats in the documentation: http://pandas.pydata.org/pandas-docs/stable/user_guide/indexing.html#returning-a-view-versus-a-copy\n",
      "C:\\conda\\lib\\site-packages\\ipykernel_launcher.py:44: SettingWithCopyWarning: \n",
      "A value is trying to be set on a copy of a slice from a DataFrame.\n",
      "Try using .loc[row_indexer,col_indexer] = value instead\n",
      "\n",
      "See the caveats in the documentation: http://pandas.pydata.org/pandas-docs/stable/user_guide/indexing.html#returning-a-view-versus-a-copy\n",
      "C:\\conda\\lib\\site-packages\\ipykernel_launcher.py:45: SettingWithCopyWarning: \n",
      "A value is trying to be set on a copy of a slice from a DataFrame.\n",
      "Try using .loc[row_indexer,col_indexer] = value instead\n",
      "\n",
      "See the caveats in the documentation: http://pandas.pydata.org/pandas-docs/stable/user_guide/indexing.html#returning-a-view-versus-a-copy\n",
      "C:\\conda\\lib\\site-packages\\ipykernel_launcher.py:46: SettingWithCopyWarning: \n",
      "A value is trying to be set on a copy of a slice from a DataFrame.\n",
      "Try using .loc[row_indexer,col_indexer] = value instead\n",
      "\n",
      "See the caveats in the documentation: http://pandas.pydata.org/pandas-docs/stable/user_guide/indexing.html#returning-a-view-versus-a-copy\n",
      "C:\\conda\\lib\\site-packages\\ipykernel_launcher.py:52: SettingWithCopyWarning: \n",
      "A value is trying to be set on a copy of a slice from a DataFrame.\n",
      "Try using .loc[row_indexer,col_indexer] = value instead\n",
      "\n",
      "See the caveats in the documentation: http://pandas.pydata.org/pandas-docs/stable/user_guide/indexing.html#returning-a-view-versus-a-copy\n",
      "C:\\conda\\lib\\site-packages\\ipykernel_launcher.py:53: SettingWithCopyWarning: \n",
      "A value is trying to be set on a copy of a slice from a DataFrame.\n",
      "Try using .loc[row_indexer,col_indexer] = value instead\n",
      "\n",
      "See the caveats in the documentation: http://pandas.pydata.org/pandas-docs/stable/user_guide/indexing.html#returning-a-view-versus-a-copy\n",
      "C:\\conda\\lib\\site-packages\\ipykernel_launcher.py:54: SettingWithCopyWarning: \n",
      "A value is trying to be set on a copy of a slice from a DataFrame.\n",
      "Try using .loc[row_indexer,col_indexer] = value instead\n",
      "\n",
      "See the caveats in the documentation: http://pandas.pydata.org/pandas-docs/stable/user_guide/indexing.html#returning-a-view-versus-a-copy\n"
     ]
    }
   ],
   "source": [
    "# Test\n",
    "target_train = X_train_cat['target'].values\n",
    "target_test  = X_test_cat['target'].values\n",
    "\n",
    "flatten_1 = flatten_cnt(X_train_cat['neighbourhood_group'].values, target_train, X_test_cat['neighbourhood_group'].values, 1, 2)\n",
    "counts_1 = counts_cnt(X_train_cat['neighbourhood_group'].values, X_test_cat['neighbourhood_group'].values)\n",
    "success_1 = success_cnt(X_train_cat['neighbourhood_group'].values, target_train, X_test_cat['neighbourhood_group'].values)\n",
    "\n",
    "X_test_cat['neighbourhood_group_f'] = flatten_1\n",
    "X_test_cat['neighbourhood_group_c'] = counts_1\n",
    "X_test_cat['neighbourhood_group_s'] = success_1\n",
    "\n",
    "flatten_2 = flatten_cnt(X_train_cat['neighbourhood'].values, target_train, X_test_cat['neighbourhood'].values, 1, 2)\n",
    "counts_2 = counts_cnt(X_train_cat['neighbourhood'].values, X_test_cat['neighbourhood'].values)\n",
    "success_2 = success_cnt(X_train_cat['neighbourhood'].values, target_train, X_test_cat['neighbourhood'].values)\n",
    "\n",
    "X_test_cat['neighbourhood_f'] = flatten_2\n",
    "X_test_cat['neighbourhood_c'] = counts_2\n",
    "X_test_cat['neighbourhood_s'] = success_2\n",
    "\n",
    "flatten_3 = flatten_cnt(X_train_cat['room_type'].values, target_train, X_test_cat['room_type'].values, 1, 2)\n",
    "counts_3 = counts_cnt(X_train_cat['room_type'].values, X_test_cat['room_type'].values)\n",
    "success_3 = success_cnt(X_train_cat['room_type'].values, target_train, X_test_cat['room_type'].values)\n",
    "\n",
    "X_test_cat['room_type_f'] = flatten_3\n",
    "X_test_cat['room_type_c'] = counts_3\n",
    "X_test_cat['room_type_s'] = success_3\n",
    "    \n",
    "X_test_cat.drop(columns=['neighbourhood_group', 'neighbourhood', 'room_type', 'target'], inplace=True)\n",
    "\n",
    "# Train\n",
    "t_flatten_1 = flatten_cnt(X_train_cat['neighbourhood_group'].values, target_train, X_train_cat['neighbourhood_group'].values, 1, 2)\n",
    "t_counts_1 = counts_cnt(X_train_cat['neighbourhood_group'].values, X_train_cat['neighbourhood_group'].values)\n",
    "t_success_1 = success_cnt(X_train_cat['neighbourhood_group'].values, target_train, X_train_cat['neighbourhood_group'].values)\n",
    "\n",
    "X_train_cat['neighbourhood_group_f'] = t_flatten_1\n",
    "X_train_cat['neighbourhood_group_c'] = t_counts_1\n",
    "X_train_cat['neighbourhood_group_s'] = t_success_1\n",
    "\n",
    "t_flatten_2 = flatten_cnt(X_train_cat['neighbourhood'].values, target_train, X_train_cat['neighbourhood'].values, 1, 2)\n",
    "t_counts_2 = counts_cnt(X_train_cat['neighbourhood'].values, X_train_cat['neighbourhood'].values)\n",
    "t_success_2 = success_cnt(X_train_cat['neighbourhood'].values, target_train, X_train_cat['neighbourhood'].values)\n",
    "\n",
    "X_train_cat['neighbourhood_f'] = t_flatten_2\n",
    "X_train_cat['neighbourhood_c'] = t_counts_2\n",
    "X_train_cat['neighbourhood_s'] = t_success_2\n",
    "\n",
    "t_flatten_3 = flatten_cnt(X_train_cat['room_type'].values, target_train, X_train_cat['room_type'].values, 1, 2)\n",
    "t_counts_3 = counts_cnt(X_train_cat['room_type'].values, X_train_cat['room_type'].values)\n",
    "t_success_3 = success_cnt(X_train_cat['room_type'].values, target_train, X_train_cat['room_type'].values)\n",
    "\n",
    "X_train_cat['room_type_f'] = t_flatten_3\n",
    "X_train_cat['room_type_c'] = t_counts_3\n",
    "X_train_cat['room_type_s'] = t_success_3\n",
    "    \n",
    "X_train_cat.drop(columns=['neighbourhood_group', 'neighbourhood', 'room_type', 'target'], inplace=True)"
   ]
  },
  {
   "cell_type": "markdown",
   "metadata": {},
   "source": [
    "### ROC-AUC scores without folding"
   ]
  },
  {
   "cell_type": "code",
   "execution_count": 162,
   "metadata": {},
   "outputs": [
    {
     "name": "stdout",
     "output_type": "stream",
     "text": [
      "best results: k = 96, ROC-AUC = 0.8633880894685682\n"
     ]
    }
   ],
   "source": [
    "k_param = np.arange(1, 100, 5)\n",
    "\n",
    "nrm = Normalizer()\n",
    "nrm.fit(X_train_cat)\n",
    "X_train_cat = nrm.transform(X_train_cat)\n",
    "X_test_cat = nrm.transform(X_test_cat)\n",
    "\n",
    "best_k = -1\n",
    "max_score = -1\n",
    "for k in k_param:\n",
    "    clf = KNeighborsClassifier(k, metric='euclidean', weights='distance')\n",
    "    clf.fit(X_train_cat, target_train)\n",
    "    pred = clf.predict_proba(X_test_cat)[:, 1]\n",
    "    score = roc_auc_score(target_test, pred)\n",
    "    #print(f'k: {k} | ROC-AUC: {score}')\n",
    "    if score > max_score:\n",
    "        best_k = k\n",
    "        max_score = score\n",
    "print(f'best results: k = {best_k}, ROC-AUC = {max_score}')"
   ]
  },
  {
   "cell_type": "markdown",
   "metadata": {},
   "source": [
    "Folding increases score a bit..."
   ]
  },
  {
   "cell_type": "code",
   "execution_count": 164,
   "metadata": {},
   "outputs": [
    {
     "data": {
      "text/plain": [
       "0.00348306851842739"
      ]
     },
     "execution_count": 164,
     "metadata": {},
     "output_type": "execute_result"
    }
   ],
   "source": [
    "0.8668711579869955 - 0.8633880894685682"
   ]
  },
  {
   "cell_type": "markdown",
   "metadata": {},
   "source": [
    "<b>2.5 (1 балл)</b> Вернемся к задаче регрессии. Утверждается, что для задачи регрессии можно также сделать преобразование категориальных признаков в действительные числа. Для этого достаточно для каждого значения признака $f_j$ вычислить:\n",
    "\\begin{align}\n",
    "p_j(c) = g(T_i | f_j(x_i) = c),\n",
    "\\end{align}\n",
    "\n",
    "где $T_i$ - значения целевой переменной объекта $x_i$. Функция $g$ - среднее (mean) или среднеквадратичное отклонение (std).\n",
    "\n",
    "Закодируйте категориальные признаки обоими способами и найдите значение RMSE. Используйте евклидову метрику для поиска ближайших соседей. Для какой функции $g$ значение RMSE лучше? Почему?"
   ]
  },
  {
   "cell_type": "markdown",
   "metadata": {},
   "source": [
    "### Mean"
   ]
  },
  {
   "cell_type": "code",
   "execution_count": 17,
   "metadata": {},
   "outputs": [],
   "source": [
    "X_train_cat = X_train[['neighbourhood_group', 'neighbourhood', 'room_type']]\n",
    "X_test_cat = X_test[['neighbourhood_group', 'neighbourhood', 'room_type']]"
   ]
  },
  {
   "cell_type": "code",
   "execution_count": 18,
   "metadata": {
    "scrolled": true
   },
   "outputs": [
    {
     "name": "stderr",
     "output_type": "stream",
     "text": [
      "C:\\conda\\lib\\site-packages\\ipykernel_launcher.py:1: SettingWithCopyWarning: \n",
      "A value is trying to be set on a copy of a slice from a DataFrame.\n",
      "Try using .loc[row_indexer,col_indexer] = value instead\n",
      "\n",
      "See the caveats in the documentation: http://pandas.pydata.org/pandas-docs/stable/user_guide/indexing.html#returning-a-view-versus-a-copy\n",
      "  \"\"\"Entry point for launching an IPython kernel.\n"
     ]
    }
   ],
   "source": [
    "X_train_cat['cost'] = y_train"
   ]
  },
  {
   "cell_type": "code",
   "execution_count": 19,
   "metadata": {},
   "outputs": [],
   "source": [
    "nei_grp_mean = X_train_cat[['neighbourhood_group', 'cost']].groupby('neighbourhood_group').agg('mean')['cost'].to_dict()\n",
    "nei_mean = X_train_cat[['neighbourhood', 'cost']].groupby('neighbourhood').agg('mean')['cost'].to_dict()\n",
    "rt_mean = X_train_cat[['room_type', 'cost']].groupby('room_type').agg('mean')['cost'].to_dict()\n",
    "\n",
    "nei_grp_std = X_train_cat[['neighbourhood_group', 'cost']].groupby('neighbourhood_group').agg('std')['cost'].to_dict()\n",
    "nei_std = X_train_cat[['neighbourhood', 'cost']].groupby('neighbourhood').agg('std')['cost'].to_dict()\n",
    "rt_std = X_train_cat[['room_type', 'cost']].groupby('room_type').agg('std')['cost'].to_dict()"
   ]
  },
  {
   "cell_type": "code",
   "execution_count": 20,
   "metadata": {},
   "outputs": [],
   "source": [
    "def encode_ft(name, how, X):\n",
    "    xxx = X_train_cat[[name, 'cost']].groupby(name).agg(how)['cost'].to_dict()\n",
    "    res = np.array([xxx[t] if t in xxx.keys() else 0 for t in X[name].values])\n",
    "    return res"
   ]
  },
  {
   "cell_type": "code",
   "execution_count": 21,
   "metadata": {},
   "outputs": [
    {
     "name": "stderr",
     "output_type": "stream",
     "text": [
      "C:\\conda\\lib\\site-packages\\ipykernel_launcher.py:1: SettingWithCopyWarning: \n",
      "A value is trying to be set on a copy of a slice from a DataFrame.\n",
      "Try using .loc[row_indexer,col_indexer] = value instead\n",
      "\n",
      "See the caveats in the documentation: http://pandas.pydata.org/pandas-docs/stable/user_guide/indexing.html#returning-a-view-versus-a-copy\n",
      "  \"\"\"Entry point for launching an IPython kernel.\n",
      "C:\\conda\\lib\\site-packages\\ipykernel_launcher.py:2: SettingWithCopyWarning: \n",
      "A value is trying to be set on a copy of a slice from a DataFrame.\n",
      "Try using .loc[row_indexer,col_indexer] = value instead\n",
      "\n",
      "See the caveats in the documentation: http://pandas.pydata.org/pandas-docs/stable/user_guide/indexing.html#returning-a-view-versus-a-copy\n",
      "  \n",
      "C:\\conda\\lib\\site-packages\\ipykernel_launcher.py:3: SettingWithCopyWarning: \n",
      "A value is trying to be set on a copy of a slice from a DataFrame.\n",
      "Try using .loc[row_indexer,col_indexer] = value instead\n",
      "\n",
      "See the caveats in the documentation: http://pandas.pydata.org/pandas-docs/stable/user_guide/indexing.html#returning-a-view-versus-a-copy\n",
      "  This is separate from the ipykernel package so we can avoid doing imports until\n"
     ]
    }
   ],
   "source": [
    "X_test_cat['n_g_m'] = encode_ft('neighbourhood_group', 'mean', X_test_cat)\n",
    "X_test_cat['n_m'] = encode_ft('neighbourhood', 'mean', X_test_cat)\n",
    "X_test_cat['rt_m'] = encode_ft('room_type', 'mean', X_test_cat)"
   ]
  },
  {
   "cell_type": "code",
   "execution_count": 22,
   "metadata": {},
   "outputs": [
    {
     "name": "stderr",
     "output_type": "stream",
     "text": [
      "C:\\conda\\lib\\site-packages\\pandas\\core\\frame.py:4102: SettingWithCopyWarning: \n",
      "A value is trying to be set on a copy of a slice from a DataFrame\n",
      "\n",
      "See the caveats in the documentation: http://pandas.pydata.org/pandas-docs/stable/user_guide/indexing.html#returning-a-view-versus-a-copy\n",
      "  errors=errors,\n"
     ]
    }
   ],
   "source": [
    "X_test_cat.drop(columns=['neighbourhood_group', 'neighbourhood', 'room_type'], inplace=True)"
   ]
  },
  {
   "cell_type": "code",
   "execution_count": 23,
   "metadata": {
    "scrolled": true
   },
   "outputs": [
    {
     "name": "stderr",
     "output_type": "stream",
     "text": [
      "C:\\conda\\lib\\site-packages\\ipykernel_launcher.py:1: SettingWithCopyWarning: \n",
      "A value is trying to be set on a copy of a slice from a DataFrame.\n",
      "Try using .loc[row_indexer,col_indexer] = value instead\n",
      "\n",
      "See the caveats in the documentation: http://pandas.pydata.org/pandas-docs/stable/user_guide/indexing.html#returning-a-view-versus-a-copy\n",
      "  \"\"\"Entry point for launching an IPython kernel.\n",
      "C:\\conda\\lib\\site-packages\\ipykernel_launcher.py:2: SettingWithCopyWarning: \n",
      "A value is trying to be set on a copy of a slice from a DataFrame.\n",
      "Try using .loc[row_indexer,col_indexer] = value instead\n",
      "\n",
      "See the caveats in the documentation: http://pandas.pydata.org/pandas-docs/stable/user_guide/indexing.html#returning-a-view-versus-a-copy\n",
      "  \n",
      "C:\\conda\\lib\\site-packages\\ipykernel_launcher.py:3: SettingWithCopyWarning: \n",
      "A value is trying to be set on a copy of a slice from a DataFrame.\n",
      "Try using .loc[row_indexer,col_indexer] = value instead\n",
      "\n",
      "See the caveats in the documentation: http://pandas.pydata.org/pandas-docs/stable/user_guide/indexing.html#returning-a-view-versus-a-copy\n",
      "  This is separate from the ipykernel package so we can avoid doing imports until\n"
     ]
    }
   ],
   "source": [
    "X_train_cat['n_g_m'] = encode_ft('neighbourhood_group', 'mean', X_train_cat)\n",
    "X_train_cat['n_m'] = encode_ft('neighbourhood', 'mean', X_train_cat)\n",
    "X_train_cat['rt_m'] = encode_ft('room_type', 'mean', X_train_cat)"
   ]
  },
  {
   "cell_type": "code",
   "execution_count": 24,
   "metadata": {},
   "outputs": [],
   "source": [
    "X_train_cat.drop(columns=['neighbourhood_group', 'neighbourhood', 'room_type', 'cost'], inplace=True)"
   ]
  },
  {
   "cell_type": "code",
   "execution_count": 25,
   "metadata": {},
   "outputs": [
    {
     "data": {
      "text/html": [
       "<div>\n",
       "<style scoped>\n",
       "    .dataframe tbody tr th:only-of-type {\n",
       "        vertical-align: middle;\n",
       "    }\n",
       "\n",
       "    .dataframe tbody tr th {\n",
       "        vertical-align: top;\n",
       "    }\n",
       "\n",
       "    .dataframe thead th {\n",
       "        text-align: right;\n",
       "    }\n",
       "</style>\n",
       "<table border=\"1\" class=\"dataframe\">\n",
       "  <thead>\n",
       "    <tr style=\"text-align: right;\">\n",
       "      <th></th>\n",
       "      <th>n_g_m</th>\n",
       "      <th>n_m</th>\n",
       "      <th>rt_m</th>\n",
       "    </tr>\n",
       "  </thead>\n",
       "  <tbody>\n",
       "    <tr>\n",
       "      <td>39319</td>\n",
       "      <td>125.588152</td>\n",
       "      <td>89.544000</td>\n",
       "      <td>90.525220</td>\n",
       "    </tr>\n",
       "    <tr>\n",
       "      <td>22796</td>\n",
       "      <td>197.712695</td>\n",
       "      <td>220.979339</td>\n",
       "      <td>212.716015</td>\n",
       "    </tr>\n",
       "    <tr>\n",
       "      <td>26190</td>\n",
       "      <td>100.009070</td>\n",
       "      <td>84.309963</td>\n",
       "      <td>90.525220</td>\n",
       "    </tr>\n",
       "    <tr>\n",
       "      <td>8161</td>\n",
       "      <td>197.712695</td>\n",
       "      <td>184.035948</td>\n",
       "      <td>212.716015</td>\n",
       "    </tr>\n",
       "    <tr>\n",
       "      <td>32473</td>\n",
       "      <td>197.712695</td>\n",
       "      <td>185.774395</td>\n",
       "      <td>212.716015</td>\n",
       "    </tr>\n",
       "    <tr>\n",
       "      <td>...</td>\n",
       "      <td>...</td>\n",
       "      <td>...</td>\n",
       "      <td>...</td>\n",
       "    </tr>\n",
       "    <tr>\n",
       "      <td>41432</td>\n",
       "      <td>197.712695</td>\n",
       "      <td>229.417822</td>\n",
       "      <td>212.716015</td>\n",
       "    </tr>\n",
       "    <tr>\n",
       "      <td>8690</td>\n",
       "      <td>197.712695</td>\n",
       "      <td>251.039801</td>\n",
       "      <td>90.525220</td>\n",
       "    </tr>\n",
       "    <tr>\n",
       "      <td>144</td>\n",
       "      <td>125.588152</td>\n",
       "      <td>107.822838</td>\n",
       "      <td>212.716015</td>\n",
       "    </tr>\n",
       "    <tr>\n",
       "      <td>10987</td>\n",
       "      <td>125.588152</td>\n",
       "      <td>109.569343</td>\n",
       "      <td>212.716015</td>\n",
       "    </tr>\n",
       "    <tr>\n",
       "      <td>12716</td>\n",
       "      <td>125.588152</td>\n",
       "      <td>110.592007</td>\n",
       "      <td>90.525220</td>\n",
       "    </tr>\n",
       "  </tbody>\n",
       "</table>\n",
       "<p>34226 rows × 3 columns</p>\n",
       "</div>"
      ],
      "text/plain": [
       "            n_g_m         n_m        rt_m\n",
       "39319  125.588152   89.544000   90.525220\n",
       "22796  197.712695  220.979339  212.716015\n",
       "26190  100.009070   84.309963   90.525220\n",
       "8161   197.712695  184.035948  212.716015\n",
       "32473  197.712695  185.774395  212.716015\n",
       "...           ...         ...         ...\n",
       "41432  197.712695  229.417822  212.716015\n",
       "8690   197.712695  251.039801   90.525220\n",
       "144    125.588152  107.822838  212.716015\n",
       "10987  125.588152  109.569343  212.716015\n",
       "12716  125.588152  110.592007   90.525220\n",
       "\n",
       "[34226 rows x 3 columns]"
      ]
     },
     "execution_count": 25,
     "metadata": {},
     "output_type": "execute_result"
    }
   ],
   "source": [
    "X_train_cat"
   ]
  },
  {
   "cell_type": "code",
   "execution_count": 26,
   "metadata": {},
   "outputs": [
    {
     "data": {
      "text/html": [
       "<div>\n",
       "<style scoped>\n",
       "    .dataframe tbody tr th:only-of-type {\n",
       "        vertical-align: middle;\n",
       "    }\n",
       "\n",
       "    .dataframe tbody tr th {\n",
       "        vertical-align: top;\n",
       "    }\n",
       "\n",
       "    .dataframe thead th {\n",
       "        text-align: right;\n",
       "    }\n",
       "</style>\n",
       "<table border=\"1\" class=\"dataframe\">\n",
       "  <thead>\n",
       "    <tr style=\"text-align: right;\">\n",
       "      <th></th>\n",
       "      <th>n_g_m</th>\n",
       "      <th>n_m</th>\n",
       "      <th>rt_m</th>\n",
       "    </tr>\n",
       "  </thead>\n",
       "  <tbody>\n",
       "    <tr>\n",
       "      <td>2850</td>\n",
       "      <td>125.588152</td>\n",
       "      <td>149.566406</td>\n",
       "      <td>212.716015</td>\n",
       "    </tr>\n",
       "    <tr>\n",
       "      <td>44256</td>\n",
       "      <td>197.712695</td>\n",
       "      <td>251.039801</td>\n",
       "      <td>212.716015</td>\n",
       "    </tr>\n",
       "    <tr>\n",
       "      <td>6636</td>\n",
       "      <td>125.588152</td>\n",
       "      <td>144.875182</td>\n",
       "      <td>212.716015</td>\n",
       "    </tr>\n",
       "    <tr>\n",
       "      <td>332</td>\n",
       "      <td>125.588152</td>\n",
       "      <td>211.490385</td>\n",
       "      <td>212.716015</td>\n",
       "    </tr>\n",
       "    <tr>\n",
       "      <td>43143</td>\n",
       "      <td>197.712695</td>\n",
       "      <td>208.630137</td>\n",
       "      <td>212.716015</td>\n",
       "    </tr>\n",
       "    <tr>\n",
       "      <td>...</td>\n",
       "      <td>...</td>\n",
       "      <td>...</td>\n",
       "      <td>...</td>\n",
       "    </tr>\n",
       "    <tr>\n",
       "      <td>3880</td>\n",
       "      <td>197.712695</td>\n",
       "      <td>136.170543</td>\n",
       "      <td>212.716015</td>\n",
       "    </tr>\n",
       "    <tr>\n",
       "      <td>48120</td>\n",
       "      <td>197.712695</td>\n",
       "      <td>290.953307</td>\n",
       "      <td>212.716015</td>\n",
       "    </tr>\n",
       "    <tr>\n",
       "      <td>456</td>\n",
       "      <td>197.712695</td>\n",
       "      <td>185.774395</td>\n",
       "      <td>212.716015</td>\n",
       "    </tr>\n",
       "    <tr>\n",
       "      <td>42059</td>\n",
       "      <td>125.588152</td>\n",
       "      <td>151.645833</td>\n",
       "      <td>90.525220</td>\n",
       "    </tr>\n",
       "    <tr>\n",
       "      <td>5908</td>\n",
       "      <td>197.712695</td>\n",
       "      <td>184.035948</td>\n",
       "      <td>212.716015</td>\n",
       "    </tr>\n",
       "  </tbody>\n",
       "</table>\n",
       "<p>14669 rows × 3 columns</p>\n",
       "</div>"
      ],
      "text/plain": [
       "            n_g_m         n_m        rt_m\n",
       "2850   125.588152  149.566406  212.716015\n",
       "44256  197.712695  251.039801  212.716015\n",
       "6636   125.588152  144.875182  212.716015\n",
       "332    125.588152  211.490385  212.716015\n",
       "43143  197.712695  208.630137  212.716015\n",
       "...           ...         ...         ...\n",
       "3880   197.712695  136.170543  212.716015\n",
       "48120  197.712695  290.953307  212.716015\n",
       "456    197.712695  185.774395  212.716015\n",
       "42059  125.588152  151.645833   90.525220\n",
       "5908   197.712695  184.035948  212.716015\n",
       "\n",
       "[14669 rows x 3 columns]"
      ]
     },
     "execution_count": 26,
     "metadata": {},
     "output_type": "execute_result"
    }
   ],
   "source": [
    "X_test_cat"
   ]
  },
  {
   "cell_type": "code",
   "execution_count": 31,
   "metadata": {},
   "outputs": [
    {
     "name": "stdout",
     "output_type": "stream",
     "text": [
      "best k: 81, best RMSE: 207.55551982688326\n"
     ]
    }
   ],
   "source": [
    "k_param = np.arange(1, 100, 5)\n",
    "\n",
    "nrm = Normalizer()\n",
    "nrm.fit(X_train_cat)\n",
    "X_train_cat = nrm.transform(X_train_cat)\n",
    "X_test_cat = nrm.transform(X_test_cat)\n",
    "\n",
    "best_k = -1\n",
    "max_score = 10000\n",
    "\n",
    "for k in k_param:\n",
    "    mdl = KNNRegressor(k, metric='euclidean', mode='distance')\n",
    "    mdl.fit(X_train_cat, y_train.values.flatten())\n",
    "    pred = mdl.predict(X_test_cat)\n",
    "    score = np.sqrt(((pred - y_test.values.flatten()) ** 2).mean())\n",
    "    \n",
    "    if score < max_score:\n",
    "        best_k = k\n",
    "        max_score = score\n",
    "print(f'best k: {best_k}, best RMSE: {max_score}')"
   ]
  },
  {
   "cell_type": "markdown",
   "metadata": {},
   "source": [
    "### Std"
   ]
  },
  {
   "cell_type": "code",
   "execution_count": 32,
   "metadata": {},
   "outputs": [],
   "source": [
    "X_train_cat = X_train[['neighbourhood_group', 'neighbourhood', 'room_type']]\n",
    "X_test_cat = X_test[['neighbourhood_group', 'neighbourhood', 'room_type']]"
   ]
  },
  {
   "cell_type": "code",
   "execution_count": 33,
   "metadata": {},
   "outputs": [
    {
     "name": "stderr",
     "output_type": "stream",
     "text": [
      "C:\\conda\\lib\\site-packages\\ipykernel_launcher.py:1: SettingWithCopyWarning: \n",
      "A value is trying to be set on a copy of a slice from a DataFrame.\n",
      "Try using .loc[row_indexer,col_indexer] = value instead\n",
      "\n",
      "See the caveats in the documentation: http://pandas.pydata.org/pandas-docs/stable/user_guide/indexing.html#returning-a-view-versus-a-copy\n",
      "  \"\"\"Entry point for launching an IPython kernel.\n"
     ]
    }
   ],
   "source": [
    "X_train_cat['cost'] = y_train"
   ]
  },
  {
   "cell_type": "code",
   "execution_count": 34,
   "metadata": {},
   "outputs": [
    {
     "name": "stderr",
     "output_type": "stream",
     "text": [
      "C:\\conda\\lib\\site-packages\\ipykernel_launcher.py:1: SettingWithCopyWarning: \n",
      "A value is trying to be set on a copy of a slice from a DataFrame.\n",
      "Try using .loc[row_indexer,col_indexer] = value instead\n",
      "\n",
      "See the caveats in the documentation: http://pandas.pydata.org/pandas-docs/stable/user_guide/indexing.html#returning-a-view-versus-a-copy\n",
      "  \"\"\"Entry point for launching an IPython kernel.\n",
      "C:\\conda\\lib\\site-packages\\ipykernel_launcher.py:2: SettingWithCopyWarning: \n",
      "A value is trying to be set on a copy of a slice from a DataFrame.\n",
      "Try using .loc[row_indexer,col_indexer] = value instead\n",
      "\n",
      "See the caveats in the documentation: http://pandas.pydata.org/pandas-docs/stable/user_guide/indexing.html#returning-a-view-versus-a-copy\n",
      "  \n",
      "C:\\conda\\lib\\site-packages\\ipykernel_launcher.py:3: SettingWithCopyWarning: \n",
      "A value is trying to be set on a copy of a slice from a DataFrame.\n",
      "Try using .loc[row_indexer,col_indexer] = value instead\n",
      "\n",
      "See the caveats in the documentation: http://pandas.pydata.org/pandas-docs/stable/user_guide/indexing.html#returning-a-view-versus-a-copy\n",
      "  This is separate from the ipykernel package so we can avoid doing imports until\n",
      "C:\\conda\\lib\\site-packages\\pandas\\core\\frame.py:4102: SettingWithCopyWarning: \n",
      "A value is trying to be set on a copy of a slice from a DataFrame\n",
      "\n",
      "See the caveats in the documentation: http://pandas.pydata.org/pandas-docs/stable/user_guide/indexing.html#returning-a-view-versus-a-copy\n",
      "  errors=errors,\n",
      "C:\\conda\\lib\\site-packages\\ipykernel_launcher.py:7: SettingWithCopyWarning: \n",
      "A value is trying to be set on a copy of a slice from a DataFrame.\n",
      "Try using .loc[row_indexer,col_indexer] = value instead\n",
      "\n",
      "See the caveats in the documentation: http://pandas.pydata.org/pandas-docs/stable/user_guide/indexing.html#returning-a-view-versus-a-copy\n",
      "  import sys\n",
      "C:\\conda\\lib\\site-packages\\ipykernel_launcher.py:8: SettingWithCopyWarning: \n",
      "A value is trying to be set on a copy of a slice from a DataFrame.\n",
      "Try using .loc[row_indexer,col_indexer] = value instead\n",
      "\n",
      "See the caveats in the documentation: http://pandas.pydata.org/pandas-docs/stable/user_guide/indexing.html#returning-a-view-versus-a-copy\n",
      "  \n",
      "C:\\conda\\lib\\site-packages\\ipykernel_launcher.py:9: SettingWithCopyWarning: \n",
      "A value is trying to be set on a copy of a slice from a DataFrame.\n",
      "Try using .loc[row_indexer,col_indexer] = value instead\n",
      "\n",
      "See the caveats in the documentation: http://pandas.pydata.org/pandas-docs/stable/user_guide/indexing.html#returning-a-view-versus-a-copy\n",
      "  if __name__ == '__main__':\n"
     ]
    }
   ],
   "source": [
    "X_test_cat['n_g_s'] = encode_ft('neighbourhood_group', 'std', X_test_cat)\n",
    "X_test_cat['n_s'] = encode_ft('neighbourhood', 'std', X_test_cat)\n",
    "X_test_cat['rt_s'] = encode_ft('room_type', 'std', X_test_cat)\n",
    "\n",
    "X_test_cat.drop(columns=['neighbourhood_group', 'neighbourhood', 'room_type'], inplace=True)\n",
    "\n",
    "X_train_cat['n_g_s'] = encode_ft('neighbourhood_group', 'std', X_train_cat)\n",
    "X_train_cat['n_s'] = encode_ft('neighbourhood', 'std', X_train_cat)\n",
    "X_train_cat['rt_s'] = encode_ft('room_type', 'std', X_train_cat)\n",
    "\n",
    "X_train_cat.drop(columns=['neighbourhood_group', 'neighbourhood', 'room_type', 'cost'], inplace=True)"
   ]
  },
  {
   "cell_type": "code",
   "execution_count": 35,
   "metadata": {},
   "outputs": [
    {
     "name": "stderr",
     "output_type": "stream",
     "text": [
      "C:\\conda\\lib\\site-packages\\pandas\\core\\frame.py:4244: SettingWithCopyWarning: \n",
      "A value is trying to be set on a copy of a slice from a DataFrame\n",
      "\n",
      "See the caveats in the documentation: http://pandas.pydata.org/pandas-docs/stable/user_guide/indexing.html#returning-a-view-versus-a-copy\n",
      "  **kwargs\n"
     ]
    },
    {
     "name": "stdout",
     "output_type": "stream",
     "text": [
      "best k: 96, best RMSE: 208.2473800984568\n"
     ]
    }
   ],
   "source": [
    "k_param = np.arange(1, 100, 5)\n",
    "\n",
    "X_train_cat.fillna(0, inplace=True)\n",
    "X_test_cat.fillna(0, inplace=True)\n",
    "\n",
    "nrm = Normalizer()\n",
    "nrm.fit(X_train_cat)\n",
    "X_train_cat = nrm.transform(X_train_cat)\n",
    "X_test_cat = nrm.transform(X_test_cat)\n",
    "\n",
    "best_k = -1\n",
    "max_score = 10000\n",
    "\n",
    "for k in k_param:\n",
    "    mdl = KNNRegressor(k, mode='distance', metric='euclidean')\n",
    "    mdl.fit(X_train_cat, y_train.values.flatten())\n",
    "    pred = mdl.predict(X_test_cat)\n",
    "    score = np.sqrt(((pred - y_test.values.flatten()) ** 2).mean())\n",
    "    \n",
    "    if score < max_score:\n",
    "        best_k = k\n",
    "        max_score = score\n",
    "print(f'best k: {best_k}, best RMSE: {max_score}')"
   ]
  },
  {
   "cell_type": "markdown",
   "metadata": {},
   "source": [
    "Mean version works a bit better. Its hard to name a reason of it because difference is small enough, maybe the distribution of means is a bit more suitable for distinguishing between clusters of data in our specific case."
   ]
  },
  {
   "cell_type": "markdown",
   "metadata": {},
   "source": [
    "## Часть 3: Текстовые признаки"
   ]
  },
  {
   "cell_type": "markdown",
   "metadata": {},
   "source": [
    "<b>3.1 (2 балла)</b> Перейдем от категориальным признаков к текстовым. Рассмотрим 2 способа преобразования текста в действительные числа:\n",
    "- Мешок слов (Bag of Words)\n",
    "- TF-IDF\n",
    "\n",
    "[Здесь](https://scikit-learn.org/stable/modules/feature_extraction.html) вы можете прочитать про их применение в Питоне.\n",
    "\n",
    "Сравните оба способа на задаче регресси. Какую лучше метрику использовать: евклидову или косинусную меру? Постройте графики зависимости качества решения задачи от способа преобразования, метрики и количества соседей. Мера качества - RMSE.\n",
    "\n",
    "Объясните полученные результаты.\n",
    "\n",
    "Перед преобразованием не забудьте уменьшить размер словаря. Например, это можно сделать за счет приведения всех слов к одному регистру и удаления [стопслов](https://en.wikipedia.org/wiki/Stop_words) (артиклей, предлогов, союзов)."
   ]
  },
  {
   "cell_type": "code",
   "execution_count": 145,
   "metadata": {},
   "outputs": [],
   "source": [
    "X_train_cat = X_train[['neighbourhood_group', 'neighbourhood', 'room_type']]\n",
    "X_test_cat = X_test[['neighbourhood_group', 'neighbourhood', 'room_type']]"
   ]
  },
  {
   "cell_type": "code",
   "execution_count": 9,
   "metadata": {},
   "outputs": [
    {
     "data": {
      "text/html": [
       "<div>\n",
       "<style scoped>\n",
       "    .dataframe tbody tr th:only-of-type {\n",
       "        vertical-align: middle;\n",
       "    }\n",
       "\n",
       "    .dataframe tbody tr th {\n",
       "        vertical-align: top;\n",
       "    }\n",
       "\n",
       "    .dataframe thead th {\n",
       "        text-align: right;\n",
       "    }\n",
       "</style>\n",
       "<table border=\"1\" class=\"dataframe\">\n",
       "  <thead>\n",
       "    <tr style=\"text-align: right;\">\n",
       "      <th></th>\n",
       "      <th>neighbourhood_group</th>\n",
       "      <th>neighbourhood</th>\n",
       "      <th>room_type</th>\n",
       "    </tr>\n",
       "  </thead>\n",
       "  <tbody>\n",
       "    <tr>\n",
       "      <td>39319</td>\n",
       "      <td>Brooklyn</td>\n",
       "      <td>Kensington</td>\n",
       "      <td>Private room</td>\n",
       "    </tr>\n",
       "    <tr>\n",
       "      <td>22796</td>\n",
       "      <td>Manhattan</td>\n",
       "      <td>Gramercy</td>\n",
       "      <td>Entire home/apt</td>\n",
       "    </tr>\n",
       "    <tr>\n",
       "      <td>26190</td>\n",
       "      <td>Queens</td>\n",
       "      <td>Sunnyside</td>\n",
       "      <td>Private room</td>\n",
       "    </tr>\n",
       "    <tr>\n",
       "      <td>8161</td>\n",
       "      <td>Manhattan</td>\n",
       "      <td>Upper East Side</td>\n",
       "      <td>Entire home/apt</td>\n",
       "    </tr>\n",
       "    <tr>\n",
       "      <td>32473</td>\n",
       "      <td>Manhattan</td>\n",
       "      <td>East Village</td>\n",
       "      <td>Entire home/apt</td>\n",
       "    </tr>\n",
       "    <tr>\n",
       "      <td>...</td>\n",
       "      <td>...</td>\n",
       "      <td>...</td>\n",
       "      <td>...</td>\n",
       "    </tr>\n",
       "    <tr>\n",
       "      <td>41432</td>\n",
       "      <td>Manhattan</td>\n",
       "      <td>Financial District</td>\n",
       "      <td>Entire home/apt</td>\n",
       "    </tr>\n",
       "    <tr>\n",
       "      <td>8690</td>\n",
       "      <td>Manhattan</td>\n",
       "      <td>Chelsea</td>\n",
       "      <td>Private room</td>\n",
       "    </tr>\n",
       "    <tr>\n",
       "      <td>144</td>\n",
       "      <td>Brooklyn</td>\n",
       "      <td>Bedford-Stuyvesant</td>\n",
       "      <td>Entire home/apt</td>\n",
       "    </tr>\n",
       "    <tr>\n",
       "      <td>10987</td>\n",
       "      <td>Brooklyn</td>\n",
       "      <td>Sunset Park</td>\n",
       "      <td>Entire home/apt</td>\n",
       "    </tr>\n",
       "    <tr>\n",
       "      <td>12716</td>\n",
       "      <td>Brooklyn</td>\n",
       "      <td>Crown Heights</td>\n",
       "      <td>Private room</td>\n",
       "    </tr>\n",
       "  </tbody>\n",
       "</table>\n",
       "<p>34226 rows × 3 columns</p>\n",
       "</div>"
      ],
      "text/plain": [
       "      neighbourhood_group       neighbourhood        room_type\n",
       "39319            Brooklyn          Kensington     Private room\n",
       "22796           Manhattan            Gramercy  Entire home/apt\n",
       "26190              Queens           Sunnyside     Private room\n",
       "8161            Manhattan     Upper East Side  Entire home/apt\n",
       "32473           Manhattan        East Village  Entire home/apt\n",
       "...                   ...                 ...              ...\n",
       "41432           Manhattan  Financial District  Entire home/apt\n",
       "8690            Manhattan             Chelsea     Private room\n",
       "144              Brooklyn  Bedford-Stuyvesant  Entire home/apt\n",
       "10987            Brooklyn         Sunset Park  Entire home/apt\n",
       "12716            Brooklyn       Crown Heights     Private room\n",
       "\n",
       "[34226 rows x 3 columns]"
      ]
     },
     "execution_count": 9,
     "metadata": {},
     "output_type": "execute_result"
    }
   ],
   "source": [
    "X_train_cat"
   ]
  },
  {
   "cell_type": "markdown",
   "metadata": {},
   "source": [
    "### TF-IDF"
   ]
  },
  {
   "cell_type": "code",
   "execution_count": 146,
   "metadata": {
    "scrolled": true
   },
   "outputs": [
    {
     "name": "stdout",
     "output_type": "stream",
     "text": [
      "(34226, 249) (14669, 249)\n"
     ]
    }
   ],
   "source": [
    "from sklearn.feature_extraction.text import TfidfVectorizer\n",
    "\n",
    "f1 = TfidfVectorizer(stop_words='english')\n",
    "f2 = TfidfVectorizer(stop_words='english')\n",
    "f3 = TfidfVectorizer(stop_words='english')\n",
    "\n",
    "train_ng = f1.fit_transform(np.array(X_train_cat['neighbourhood_group'])).toarray()\n",
    "train_n = f2.fit_transform(np.array(X_train_cat['neighbourhood'])).toarray()\n",
    "train_rt = f3.fit_transform(np.array(X_train_cat['room_type'])).toarray()\n",
    "\n",
    "tf_train = np.concatenate((train_ng, train_n, train_rt), axis=1)\n",
    "\n",
    "test_ng = f1.transform(np.array(X_test_cat['neighbourhood_group'])).toarray()\n",
    "test_n = f2.transform(np.array(X_test_cat['neighbourhood'])).toarray()\n",
    "test_rt = f3.transform(np.array(X_test_cat['room_type'])).toarray()\n",
    "\n",
    "tf_test = np.concatenate((test_ng, test_n, test_rt), axis=1)\n",
    "\n",
    "print(tf_train.shape, tf_test.shape)"
   ]
  },
  {
   "cell_type": "code",
   "execution_count": 48,
   "metadata": {},
   "outputs": [
    {
     "name": "stdout",
     "output_type": "stream",
     "text": [
      "1 253.43139226272905\n",
      "6 217.03946246586725\n",
      "11 213.8020652418443\n",
      "16 211.13286972785076\n",
      "21 210.6285480709012\n",
      "26 208.92586494313952\n",
      "31 208.4003338464445\n",
      "36 208.0085290217739\n",
      "41 207.88632215539613\n",
      "46 207.4522300368012\n",
      "51 207.42855366515064\n",
      "56 207.3082896220935\n",
      "61 207.17513625047187\n",
      "66 207.1133993376432\n",
      "71 207.17170969831326\n",
      "76 207.28739026295094\n",
      "81 207.18040805860312\n",
      "86 207.02330093873246\n",
      "91 207.0458879127179\n",
      "96 206.9809376985742\n",
      "best k: 96, best RMSE: 206.9809376985742\n"
     ]
    }
   ],
   "source": [
    "k_param = np.arange(1, 100, 5)\n",
    "\n",
    "nrm = Normalizer()\n",
    "nrm.fit(tf_train)\n",
    "X_train_cat = nrm.transform(tf_train)\n",
    "X_test_cat = nrm.transform(tf_test)\n",
    "\n",
    "best_k = -1\n",
    "max_score = 10000\n",
    "\n",
    "scores = np.arange(1, 100, 5)\n",
    "\n",
    "for i, k in enumerate(k_param):\n",
    "    mdl = KNNRegressor(k, mode='uniform', metric='euclidean')\n",
    "    mdl.fit(X_train_cat, y_train.values.flatten())\n",
    "    pred = mdl.predict(X_test_cat)\n",
    "    score = np.sqrt(((pred - y_test.values.flatten()) ** 2).mean())\n",
    "    scores[i] = score\n",
    "    if score < max_score:\n",
    "        best_k = k\n",
    "        max_score = score\n",
    "    print(k, score)\n",
    "print(f'best k: {best_k}, best RMSE: {max_score}')"
   ]
  },
  {
   "cell_type": "code",
   "execution_count": 49,
   "metadata": {
    "scrolled": true
   },
   "outputs": [
    {
     "data": {
      "text/plain": [
       "[<matplotlib.lines.Line2D at 0x2075c75a780>]"
      ]
     },
     "execution_count": 49,
     "metadata": {},
     "output_type": "execute_result"
    },
    {
     "data": {
      "image/png": "[encoded data removed]",
      "text/plain": [
       "<Figure size 432x288 with 1 Axes>"
      ]
     },
     "metadata": {
      "needs_background": "light"
     },
     "output_type": "display_data"
    }
   ],
   "source": [
    "plt.title('TF-IDF euclidean metric')\n",
    "plt.xlabel('Number of nearest neighbors')\n",
    "plt.ylabel('RMSE')\n",
    "plt.plot(k_param, scores)"
   ]
  },
  {
   "cell_type": "markdown",
   "metadata": {},
   "source": [
    "Here spaghetti code begins... You need to execute some of previous cells before executing next one. But i believe this is not important in this assignment."
   ]
  },
  {
   "cell_type": "code",
   "execution_count": 53,
   "metadata": {},
   "outputs": [
    {
     "name": "stdout",
     "output_type": "stream",
     "text": [
      "1 257.03319247829694\n",
      "6 275.73458514786245\n",
      "11 231.21301532201696\n",
      "16 218.6559609696387\n",
      "21 213.27269377641483\n",
      "26 214.04219381179257\n",
      "31 212.03300487130164\n",
      "36 212.19724651683015\n",
      "41 210.7896623291365\n",
      "46 210.47298322575693\n",
      "51 210.24122272133283\n",
      "56 209.56929143078113\n",
      "61 209.08165731024727\n",
      "66 208.77160456702984\n",
      "71 208.6716342707663\n",
      "76 208.3336660704998\n",
      "81 208.04415234891445\n",
      "86 207.81944343735867\n",
      "91 207.73104537830633\n",
      "96 207.4517232747727\n",
      "best k: 96, best RMSE: 207.4517232747727\n"
     ]
    }
   ],
   "source": [
    "k_param = np.arange(1, 100, 5)\n",
    "\n",
    "nrm = Normalizer()\n",
    "nrm.fit(tf_train)\n",
    "X_train_cat = nrm.transform(tf_train)\n",
    "X_test_cat = nrm.transform(tf_test)\n",
    "\n",
    "best_k = -1\n",
    "max_score = 10000\n",
    "\n",
    "scores_c = np.arange(1, 100, 5)\n",
    "\n",
    "for i, k in enumerate(k_param):\n",
    "    mdl = KNNRegressor(k, mode='uniform', metric='cosine')\n",
    "    mdl.fit(X_train_cat, y_train.values.flatten())\n",
    "    pred = mdl.predict(X_test_cat)\n",
    "    score = np.sqrt(((pred - y_test.values.flatten()) ** 2).mean())\n",
    "    scores_c[i] = score\n",
    "    if score < max_score:\n",
    "        best_k = k\n",
    "        max_score = score\n",
    "    print(k, score)\n",
    "print(f'best k: {best_k}, best RMSE: {max_score}')"
   ]
  },
  {
   "cell_type": "code",
   "execution_count": 54,
   "metadata": {},
   "outputs": [
    {
     "data": {
      "text/plain": [
       "[<matplotlib.lines.Line2D at 0x20759e884a8>]"
      ]
     },
     "execution_count": 54,
     "metadata": {},
     "output_type": "execute_result"
    },
    {
     "data": {
      "image/png": "[encoded data removed]",
      "text/plain": [
       "<Figure size 432x288 with 1 Axes>"
      ]
     },
     "metadata": {
      "needs_background": "light"
     },
     "output_type": "display_data"
    }
   ],
   "source": [
    "plt.title('TF-IDF cosine metric')\n",
    "plt.xlabel('Number of nearest neighbors')\n",
    "plt.ylabel('RMSE')\n",
    "plt.plot(k_param, scores_c)"
   ]
  },
  {
   "cell_type": "markdown",
   "metadata": {},
   "source": [
    "### Bag of words"
   ]
  },
  {
   "cell_type": "code",
   "execution_count": 18,
   "metadata": {},
   "outputs": [],
   "source": [
    "X_train_cat = X_train[['neighbourhood_group', 'neighbourhood', 'room_type']]\n",
    "X_test_cat = X_test[['neighbourhood_group', 'neighbourhood', 'room_type']]"
   ]
  },
  {
   "cell_type": "code",
   "execution_count": 19,
   "metadata": {},
   "outputs": [
    {
     "name": "stdout",
     "output_type": "stream",
     "text": [
      "(34226, 249) (14669, 249)\n"
     ]
    }
   ],
   "source": [
    "from sklearn.feature_extraction.text import CountVectorizer\n",
    "\n",
    "f1 = CountVectorizer(stop_words='english')\n",
    "f2 = CountVectorizer(stop_words='english')\n",
    "f3 = CountVectorizer(stop_words='english')\n",
    "\n",
    "train_ng = f1.fit_transform(np.array(X_train_cat['neighbourhood_group'])).toarray()\n",
    "train_n = f2.fit_transform(np.array(X_train_cat['neighbourhood'])).toarray()\n",
    "train_rt = f3.fit_transform(np.array(X_train_cat['room_type'])).toarray()\n",
    "\n",
    "tf_train = np.concatenate((train_ng, train_n, train_rt), axis=1)\n",
    "\n",
    "test_ng = f1.transform(np.array(X_test_cat['neighbourhood_group'])).toarray()\n",
    "test_n = f2.transform(np.array(X_test_cat['neighbourhood'])).toarray()\n",
    "test_rt = f3.transform(np.array(X_test_cat['room_type'])).toarray()\n",
    "\n",
    "tf_test = np.concatenate((test_ng, test_n, test_rt), axis=1)\n",
    "\n",
    "print(tf_train.shape, tf_test.shape)"
   ]
  },
  {
   "cell_type": "code",
   "execution_count": 8,
   "metadata": {},
   "outputs": [
    {
     "name": "stdout",
     "output_type": "stream",
     "text": [
      "1 226.54946607027443\n",
      "6 209.9300703720499\n",
      "11 208.8543919401288\n",
      "16 208.51631029542406\n",
      "21 207.4676316052715\n",
      "26 207.61976898029076\n",
      "31 207.63435836164493\n",
      "36 207.14022257111395\n",
      "41 207.3717070077764\n",
      "46 206.98283536141014\n",
      "51 206.80982510065945\n",
      "56 206.8552409497287\n",
      "61 206.77267868081958\n",
      "66 206.7264203055284\n",
      "71 206.68102949364328\n",
      "76 206.6956511335232\n",
      "81 206.65913935774813\n",
      "86 206.7776256615504\n",
      "91 206.6366788036051\n",
      "96 206.769987745687\n",
      "best k: 91, best RMSE: 206.6366788036051\n"
     ]
    }
   ],
   "source": [
    "k_param = np.arange(1, 100, 5)\n",
    "\n",
    "nrm = Normalizer()\n",
    "nrm.fit(tf_train)\n",
    "X_train_cat = nrm.transform(tf_train)\n",
    "X_test_cat = nrm.transform(tf_test)\n",
    "\n",
    "best_k = -1\n",
    "max_score = 10000\n",
    "\n",
    "scores = np.arange(1, 100, 5)\n",
    "\n",
    "for i, k in enumerate(k_param):\n",
    "    mdl = KNNRegressor(k, mode='uniform', metric='euclidean')\n",
    "    mdl.fit(X_train_cat, y_train.values.flatten())\n",
    "    pred = mdl.predict(X_test_cat)\n",
    "    score = np.sqrt(((pred - y_test.values.flatten()) ** 2).mean())\n",
    "    scores[i] = score\n",
    "    if score < max_score:\n",
    "        best_k = k\n",
    "        max_score = score\n",
    "    print(k, score)\n",
    "print(f'best k: {best_k}, best RMSE: {max_score}')"
   ]
  },
  {
   "cell_type": "code",
   "execution_count": 13,
   "metadata": {},
   "outputs": [
    {
     "data": {
      "text/plain": [
       "[<matplotlib.lines.Line2D at 0x198488f3198>]"
      ]
     },
     "execution_count": 13,
     "metadata": {},
     "output_type": "execute_result"
    },
    {
     "data": {
      "image/png": "[encoded data removed]",
      "text/plain": [
       "<Figure size 432x288 with 1 Axes>"
      ]
     },
     "metadata": {
      "needs_background": "light"
     },
     "output_type": "display_data"
    }
   ],
   "source": [
    "plt.title('Bag of words euclidean metric')\n",
    "plt.xlabel('Number of nearest neighbors')\n",
    "plt.ylabel('RMSE')\n",
    "plt.plot(k_param, scores)"
   ]
  },
  {
   "cell_type": "code",
   "execution_count": 13,
   "metadata": {},
   "outputs": [
    {
     "name": "stdout",
     "output_type": "stream",
     "text": [
      "1 256.9968521794218\n",
      "6 268.69779869845877\n",
      "11 229.76431124649753\n",
      "16 219.29457549304752\n",
      "21 214.7571548128119\n",
      "26 213.61597832597778\n",
      "31 211.41795407247264\n",
      "36 211.0017829901303\n",
      "41 210.03875783293591\n",
      "46 209.99583282514894\n",
      "51 209.40199942570834\n",
      "56 209.10381975258795\n",
      "61 209.53238182210845\n",
      "66 208.94915595771033\n",
      "71 208.54605174469302\n",
      "76 208.5932775639098\n",
      "81 208.2637635576019\n",
      "86 208.03068872531617\n",
      "91 208.1159483514796\n",
      "96 207.8651213235757\n",
      "best k: 96, best RMSE: 207.8651213235757\n"
     ]
    }
   ],
   "source": [
    "k_param = np.arange(1, 100, 5)\n",
    "\n",
    "nrm = Normalizer()\n",
    "nrm.fit(tf_train)\n",
    "X_train_cat = nrm.transform(tf_train)\n",
    "X_test_cat = nrm.transform(tf_test)\n",
    "\n",
    "best_k = -1\n",
    "max_score = 10000\n",
    "\n",
    "scores_c = np.arange(1, 100, 5)\n",
    "\n",
    "for i, k in enumerate(k_param):\n",
    "    mdl = KNNRegressor(k, mode='uniform', metric='cosine')\n",
    "    mdl.fit(X_train_cat, y_train.values.flatten())\n",
    "    pred = mdl.predict(X_test_cat)\n",
    "    score = np.sqrt(((pred - y_test.values.flatten()) ** 2).mean())\n",
    "    scores_c[i] = score\n",
    "    if score < max_score:\n",
    "        best_k = k\n",
    "        max_score = score\n",
    "    print(k, score)\n",
    "print(f'best k: {best_k}, best RMSE: {max_score}')"
   ]
  },
  {
   "cell_type": "code",
   "execution_count": 15,
   "metadata": {},
   "outputs": [
    {
     "data": {
      "text/plain": [
       "[<matplotlib.lines.Line2D at 0x2305a7035f8>]"
      ]
     },
     "execution_count": 15,
     "metadata": {},
     "output_type": "execute_result"
    },
    {
     "data": {
      "image/png": "[encoded data removed]",
      "text/plain": [
       "<Figure size 432x288 with 1 Axes>"
      ]
     },
     "metadata": {
      "needs_background": "light"
     },
     "output_type": "display_data"
    }
   ],
   "source": [
    "plt.title('Bag of words cosine metric')\n",
    "plt.xlabel('Number of nearest neighbors')\n",
    "plt.ylabel('RMSE')\n",
    "plt.plot(k_param, scores_c)"
   ]
  },
  {
   "cell_type": "markdown",
   "metadata": {},
   "source": [
    "<center><b>Summary</b> </center>"
   ]
  },
  {
   "cell_type": "markdown",
   "metadata": {},
   "source": [
    "| Method | Metric | Best k | Best RMSE |\n",
    "| --- | --- | --- | --- |\n",
    "| TF-IDF | Euclidean | 96 | 206.98 |\n",
    "| TF-IDF | Cosine | 96 | 207.45 |\n",
    "| Bag of words | Euclidean | 91 | 206.63 |\n",
    "| Bag of words | Cosine | 96 | 207.86 |"
   ]
  },
  {
   "cell_type": "markdown",
   "metadata": {},
   "source": [
    "The best result was obtained using bag of words approach with euclidean distance and k=91. As we can see from the graphs, with an increase in the number of nearest neighbors, quality first improves, and then goes to a plateau. It is also interesting that when using the cosine metric, the RMSE quality graph has an extremum at small number of neighbors."
   ]
  },
  {
   "cell_type": "markdown",
   "metadata": {},
   "source": [
    "<b>3.2 (1 балл)</b> Используя все доступные признаки, решите задачу регрессии. Для категориальных и текстовых признаков выберите лучшие преобразования. Повлияло ли добавление количественного признака на метрику качества?"
   ]
  },
  {
   "cell_type": "markdown",
   "metadata": {},
   "source": [
    "I selected the best features to fit our model. Features 'number_of_reviews', 'availability_365' and 'last_review' make quality worse. Maybe they can be preprocessed in some specific way to make an improvement, but without it model works a bit worse with them."
   ]
  },
  {
   "cell_type": "code",
   "execution_count": 261,
   "metadata": {},
   "outputs": [],
   "source": [
    "train = X_train.iloc[:, 4:]\n",
    "train.drop(columns=['number_of_reviews', 'availability_365', 'last_review', 'neighbourhood_group', 'neighbourhood', 'room_type'], inplace=True)"
   ]
  },
  {
   "cell_type": "code",
   "execution_count": 262,
   "metadata": {},
   "outputs": [
    {
     "data": {
      "text/html": [
       "<div>\n",
       "<style scoped>\n",
       "    .dataframe tbody tr th:only-of-type {\n",
       "        vertical-align: middle;\n",
       "    }\n",
       "\n",
       "    .dataframe tbody tr th {\n",
       "        vertical-align: top;\n",
       "    }\n",
       "\n",
       "    .dataframe thead th {\n",
       "        text-align: right;\n",
       "    }\n",
       "</style>\n",
       "<table border=\"1\" class=\"dataframe\">\n",
       "  <thead>\n",
       "    <tr style=\"text-align: right;\">\n",
       "      <th></th>\n",
       "      <th>latitude</th>\n",
       "      <th>longitude</th>\n",
       "      <th>minimum_nights</th>\n",
       "      <th>reviews_per_month</th>\n",
       "      <th>calculated_host_listings_count</th>\n",
       "    </tr>\n",
       "  </thead>\n",
       "  <tbody>\n",
       "    <tr>\n",
       "      <td>39319</td>\n",
       "      <td>40.63628</td>\n",
       "      <td>-73.96970</td>\n",
       "      <td>2</td>\n",
       "      <td>3.670000</td>\n",
       "      <td>3</td>\n",
       "    </tr>\n",
       "    <tr>\n",
       "      <td>22796</td>\n",
       "      <td>40.73401</td>\n",
       "      <td>-73.98140</td>\n",
       "      <td>2</td>\n",
       "      <td>0.580000</td>\n",
       "      <td>1</td>\n",
       "    </tr>\n",
       "    <tr>\n",
       "      <td>26190</td>\n",
       "      <td>40.74722</td>\n",
       "      <td>-73.91860</td>\n",
       "      <td>2</td>\n",
       "      <td>0.910000</td>\n",
       "      <td>4</td>\n",
       "    </tr>\n",
       "    <tr>\n",
       "      <td>8161</td>\n",
       "      <td>40.77357</td>\n",
       "      <td>-73.95193</td>\n",
       "      <td>1</td>\n",
       "      <td>1.373221</td>\n",
       "      <td>1</td>\n",
       "    </tr>\n",
       "    <tr>\n",
       "      <td>32473</td>\n",
       "      <td>40.72714</td>\n",
       "      <td>-73.98215</td>\n",
       "      <td>2</td>\n",
       "      <td>2.740000</td>\n",
       "      <td>1</td>\n",
       "    </tr>\n",
       "  </tbody>\n",
       "</table>\n",
       "</div>"
      ],
      "text/plain": [
       "       latitude  longitude  minimum_nights  reviews_per_month  \\\n",
       "39319  40.63628  -73.96970               2           3.670000   \n",
       "22796  40.73401  -73.98140               2           0.580000   \n",
       "26190  40.74722  -73.91860               2           0.910000   \n",
       "8161   40.77357  -73.95193               1           1.373221   \n",
       "32473  40.72714  -73.98215               2           2.740000   \n",
       "\n",
       "       calculated_host_listings_count  \n",
       "39319                               3  \n",
       "22796                               1  \n",
       "26190                               4  \n",
       "8161                                1  \n",
       "32473                               1  "
      ]
     },
     "execution_count": 262,
     "metadata": {},
     "output_type": "execute_result"
    }
   ],
   "source": [
    "train.head()"
   ]
  },
  {
   "cell_type": "code",
   "execution_count": 263,
   "metadata": {},
   "outputs": [],
   "source": [
    "X_train_cat = X_train[['neighbourhood_group', 'neighbourhood', 'room_type']]\n",
    "X_test_cat = X_test[['neighbourhood_group', 'neighbourhood', 'room_type']]"
   ]
  },
  {
   "cell_type": "code",
   "execution_count": 264,
   "metadata": {},
   "outputs": [
    {
     "name": "stdout",
     "output_type": "stream",
     "text": [
      "(34226, 249) (14669, 249)\n"
     ]
    }
   ],
   "source": [
    "from sklearn.feature_extraction.text import CountVectorizer\n",
    "\n",
    "f1 = CountVectorizer(stop_words='english')\n",
    "f2 = CountVectorizer(stop_words='english')\n",
    "f3 = CountVectorizer(stop_words='english')\n",
    "\n",
    "train_ng = f1.fit_transform(np.array(X_train_cat['neighbourhood_group'])).toarray()\n",
    "train_n = f2.fit_transform(np.array(X_train_cat['neighbourhood'])).toarray()\n",
    "train_rt = f3.fit_transform(np.array(X_train_cat['room_type'])).toarray()\n",
    "\n",
    "tf_train = np.concatenate((train_ng, train_n, train_rt), axis=1)\n",
    "\n",
    "test_ng = f1.transform(np.array(X_test_cat['neighbourhood_group'])).toarray()\n",
    "test_n = f2.transform(np.array(X_test_cat['neighbourhood'])).toarray()\n",
    "test_rt = f3.transform(np.array(X_test_cat['room_type'])).toarray()\n",
    "\n",
    "tf_test = np.concatenate((test_ng, test_n, test_rt), axis=1)\n",
    "\n",
    "print(tf_train.shape, tf_test.shape)"
   ]
  },
  {
   "cell_type": "code",
   "execution_count": 265,
   "metadata": {},
   "outputs": [],
   "source": [
    "resulting_train = np.concatenate((train.values, tf_train), axis=1)"
   ]
  },
  {
   "cell_type": "code",
   "execution_count": 266,
   "metadata": {},
   "outputs": [
    {
     "data": {
      "text/html": [
       "<div>\n",
       "<style scoped>\n",
       "    .dataframe tbody tr th:only-of-type {\n",
       "        vertical-align: middle;\n",
       "    }\n",
       "\n",
       "    .dataframe tbody tr th {\n",
       "        vertical-align: top;\n",
       "    }\n",
       "\n",
       "    .dataframe thead th {\n",
       "        text-align: right;\n",
       "    }\n",
       "</style>\n",
       "<table border=\"1\" class=\"dataframe\">\n",
       "  <thead>\n",
       "    <tr style=\"text-align: right;\">\n",
       "      <th></th>\n",
       "      <th>latitude</th>\n",
       "      <th>longitude</th>\n",
       "      <th>minimum_nights</th>\n",
       "      <th>reviews_per_month</th>\n",
       "      <th>calculated_host_listings_count</th>\n",
       "    </tr>\n",
       "  </thead>\n",
       "  <tbody>\n",
       "    <tr>\n",
       "      <td>2850</td>\n",
       "      <td>40.72570</td>\n",
       "      <td>-73.94181</td>\n",
       "      <td>30</td>\n",
       "      <td>0.120000</td>\n",
       "      <td>52</td>\n",
       "    </tr>\n",
       "    <tr>\n",
       "      <td>44256</td>\n",
       "      <td>40.74269</td>\n",
       "      <td>-73.99911</td>\n",
       "      <td>30</td>\n",
       "      <td>1.373221</td>\n",
       "      <td>232</td>\n",
       "    </tr>\n",
       "    <tr>\n",
       "      <td>6636</td>\n",
       "      <td>40.71349</td>\n",
       "      <td>-73.96290</td>\n",
       "      <td>5</td>\n",
       "      <td>0.470000</td>\n",
       "      <td>1</td>\n",
       "    </tr>\n",
       "    <tr>\n",
       "      <td>332</td>\n",
       "      <td>40.69441</td>\n",
       "      <td>-73.99771</td>\n",
       "      <td>3</td>\n",
       "      <td>0.850000</td>\n",
       "      <td>2</td>\n",
       "    </tr>\n",
       "    <tr>\n",
       "      <td>43143</td>\n",
       "      <td>40.78232</td>\n",
       "      <td>-73.97575</td>\n",
       "      <td>30</td>\n",
       "      <td>0.420000</td>\n",
       "      <td>1</td>\n",
       "    </tr>\n",
       "  </tbody>\n",
       "</table>\n",
       "</div>"
      ],
      "text/plain": [
       "       latitude  longitude  minimum_nights  reviews_per_month  \\\n",
       "2850   40.72570  -73.94181              30           0.120000   \n",
       "44256  40.74269  -73.99911              30           1.373221   \n",
       "6636   40.71349  -73.96290               5           0.470000   \n",
       "332    40.69441  -73.99771               3           0.850000   \n",
       "43143  40.78232  -73.97575              30           0.420000   \n",
       "\n",
       "       calculated_host_listings_count  \n",
       "2850                               52  \n",
       "44256                             232  \n",
       "6636                                1  \n",
       "332                                 2  \n",
       "43143                               1  "
      ]
     },
     "execution_count": 266,
     "metadata": {},
     "output_type": "execute_result"
    }
   ],
   "source": [
    "test = X_test.iloc[:, 4:]\n",
    "test.drop(columns=['number_of_reviews', 'availability_365', 'last_review', 'neighbourhood_group', 'neighbourhood', 'room_type'], inplace=True)\n",
    "test.head()"
   ]
  },
  {
   "cell_type": "code",
   "execution_count": 267,
   "metadata": {},
   "outputs": [],
   "source": [
    "resulting_test = np.concatenate((test.values, tf_test), axis=1)"
   ]
  },
  {
   "cell_type": "code",
   "execution_count": 268,
   "metadata": {},
   "outputs": [
    {
     "data": {
      "text/plain": [
       "(14669, 254)"
      ]
     },
     "execution_count": 268,
     "metadata": {},
     "output_type": "execute_result"
    }
   ],
   "source": [
    "final_test.shape"
   ]
  },
  {
   "cell_type": "code",
   "execution_count": 271,
   "metadata": {},
   "outputs": [
    {
     "data": {
      "text/plain": [
       "(14669, 254)"
      ]
     },
     "execution_count": 271,
     "metadata": {},
     "output_type": "execute_result"
    }
   ],
   "source": [
    "final_test.shape"
   ]
  },
  {
   "cell_type": "code",
   "execution_count": 272,
   "metadata": {},
   "outputs": [
    {
     "name": "stdout",
     "output_type": "stream",
     "text": [
      "1 262.62923784750905\n",
      "6 221.8033948575586\n",
      "11 211.37849962403936\n",
      "16 208.09485683912044\n",
      "21 206.30366790438444\n",
      "26 205.1571319053561\n",
      "31 205.54743652671345\n",
      "36 205.71591207611252\n",
      "41 205.7520577766319\n",
      "46 204.59045355932784\n",
      "51 204.79679962917436\n",
      "56 204.77896160784084\n",
      "61 205.01332993985224\n",
      "66 205.17577785691572\n",
      "71 205.24918102986484\n",
      "76 205.62221539730416\n",
      "81 205.56570662371735\n",
      "86 205.59060455682004\n",
      "91 205.76664186966158\n",
      "96 205.88412342137582\n"
     ]
    }
   ],
   "source": [
    "nrm = Normalizer()\n",
    "nrm.fit(resulting_train)\n",
    "final_train = nrm.transform(resulting_train)\n",
    "final_test = nrm.transform(resulting_test)\n",
    "\n",
    "scores = np.arange(1, 100, 5)\n",
    "\n",
    "for i, k in enumerate(scores):\n",
    "    mdl = KNNRegressor(k, mode='uniform', metric='euclidean')\n",
    "    mdl.fit(final_train, y_train.values.flatten())\n",
    "    pred = mdl.predict(final_test)\n",
    "    score = np.sqrt(((pred - y_test.values.flatten()) ** 2).mean())\n",
    "    scores[i] = score\n",
    "    print(k, score)"
   ]
  },
  {
   "cell_type": "code",
   "execution_count": 279,
   "metadata": {},
   "outputs": [
    {
     "data": {
      "text/plain": [
       "[<matplotlib.lines.Line2D at 0x1a3341921d0>]"
      ]
     },
     "execution_count": 279,
     "metadata": {},
     "output_type": "execute_result"
    },
    {
     "data": {
      "image/png": "[encoded data removed]",
      "text/plain": [
       "<Figure size 432x288 with 1 Axes>"
      ]
     },
     "metadata": {
      "needs_background": "light"
     },
     "output_type": "display_data"
    }
   ],
   "source": [
    "plt.title('Final model quality depending on k')\n",
    "plt.xlabel('Number of nearest neighbors')\n",
    "plt.ylabel('RMSE')\n",
    "plt.plot(k_param, scores)"
   ]
  },
  {
   "cell_type": "markdown",
   "metadata": {},
   "source": [
    "As we can see, optimal value of k is 46, that corresponds to RMSE = 204.59. We intend to conclude that adding a numerical features actually improves the model."
   ]
  },
  {
   "cell_type": "markdown",
   "metadata": {},
   "source": [
    "## Часть 4: Выводы\n"
   ]
  },
  {
   "cell_type": "markdown",
   "metadata": {},
   "source": [
    "In this notebook we examined some ways to work with categorical data. Thus after carrying out a comparative description and analysis, it became possible to arrive at the following conclusions:<br>\n",
    "<ul>\n",
    "<li>1) It is not so easy to make a comprehensive inference why one method works better than another.\n",
    "<li>2) It is worth trying several different methods for processing categorical data (especially in text form).\n",
    "</ul>"
   ]
  }
 ],
 "metadata": {
  "kernelspec": {
   "display_name": "Python 3",
   "language": "python",
   "name": "python3"
  },
  "language_info": {
   "codemirror_mode": {
    "name": "ipython",
    "version": 3
   },
   "file_extension": ".py",
   "mimetype": "text/x-python",
   "name": "python",
   "nbconvert_exporter": "python",
   "pygments_lexer": "ipython3",
   "version": "3.7.3"
  }
 },
 "nbformat": 4,
 "nbformat_minor": 1
}
